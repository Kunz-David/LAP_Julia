{
 "cells": [
  {
   "cell_type": "markdown",
   "source": [
    "# Registration Functions Showcase"
   ],
   "metadata": {}
  },
  {
   "cell_type": "markdown",
   "source": [
    "In this example page I will show how to work with the registration algorithms `lap`, `pflap`, `sparse_lap` and `sparse_pflap`."
   ],
   "metadata": {}
  },
  {
   "cell_type": "markdown",
   "source": [
    "I will generate some images to show the workings and function calls."
   ],
   "metadata": {}
  },
  {
   "outputs": [],
   "cell_type": "code",
   "source": [
    "# using the package\n",
    "using LAP_julia;\n",
    "\n",
    "# default arguments:\n",
    "img, imgw, flow = gen_init();"
   ],
   "metadata": {},
   "execution_count": 1
  },
  {
   "cell_type": "markdown",
   "source": [
    "See the `Basic Interaction` section or the `Public Documentation` for more advanced input generation"
   ],
   "metadata": {}
  },
  {
   "cell_type": "markdown",
   "source": [
    "## Full LAP Methods"
   ],
   "metadata": {}
  },
  {
   "cell_type": "markdown",
   "source": [
    "### `lap` function"
   ],
   "metadata": {}
  },
  {
   "outputs": [],
   "cell_type": "code",
   "source": [
    "# set a filter half size, which is larger than the default max displacement: 10 used in gen_init\n",
    "fhs = 15;\n",
    "flow_est, source_reg = lap(img, imgw, fhs);"
   ],
   "metadata": {},
   "execution_count": 2
  },
  {
   "cell_type": "markdown",
   "source": [
    "This gives us a estimation of the flow and the registered source image"
   ],
   "metadata": {}
  },
  {
   "cell_type": "markdown",
   "source": [
    "---\n",
    "\n",
    "*This notebook was generated using [Literate.jl](https://github.com/fredrikekre/Literate.jl).*"
   ],
   "metadata": {}
  }
 ],
 "nbformat_minor": 3,
 "metadata": {
  "language_info": {
   "file_extension": ".jl",
   "mimetype": "application/julia",
   "name": "julia",
   "version": "1.3.1"
  },
  "kernelspec": {
   "name": "julia-1.3",
   "display_name": "Julia 1.3.1",
   "language": "julia"
  }
 },
 "nbformat": 4
}
