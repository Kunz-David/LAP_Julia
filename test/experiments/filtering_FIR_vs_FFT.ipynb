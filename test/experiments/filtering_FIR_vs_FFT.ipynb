{
 "cells": [
  {
   "cell_type": "markdown",
   "metadata": {},
   "source": [
    "# Filtering Speed FIR vs FFT based on kernel size and image size"
   ]
  },
  {
   "cell_type": "code",
   "execution_count": 6,
   "metadata": {},
   "outputs": [],
   "source": [
    "using LAP_julia, TimerOutputs, DataFrames, TableView, JLD2, FileIO, PyPlot, BenchmarkTools"
   ]
  },
  {
   "cell_type": "code",
   "execution_count": 7,
   "metadata": {},
   "outputs": [],
   "source": [
    "filter_speed_df = DataFrame(\n",
    "    index = Int[],\n",
    "    filter_fun = Symbol[],\n",
    "    img_size = Int[],\n",
    "    kernel_half_size = Int[],\n",
    "    timer = TimerOutput[])\n",
    "\n",
    "kernel_half_sizes = cat(collect(1:51), collect(61:10:101), collect(141:40:501), collect(501:98:795), dims=1);\n",
    "img_sizes = [100, 200, 400, 800, 1600, 3200];\n",
    "filter_strat = []"
   ]
  },
  {
   "cell_type": "code",
   "execution_count": null,
   "metadata": {},
   "outputs": [],
   "source": [
    "df = filter_speed_df\n",
    "let index = 0\n",
    "    for img_size in img_sizes\n",
    "\n",
    "        # limit the max kernel size to 1/4 the image\n",
    "        kernel_limit = img_size/4\n",
    "        khs_modified = filter(x -> x <= kernel_limit ? x : 0, kernel_half_sizes)\n",
    "\n",
    "        for khs in khs_modified\n",
    "            \n",
    "            for reg_fun in [sparse_lap_win_sum1, sparse_lap]\n",
    "                if whs != 0\n",
    "                    window = [whs * 2 + 1, whs * 2 + 1]\n",
    "                    timer = TimerOutput(\"reg alg: sp lap\")\n",
    "                    # run once:\n",
    "                    flow_est, source_reg, timer, results = test_registration_alg(reg_fun, img, imgw, flow, [whs, window], Dict(:timer => timer), timer=timer, display=false)\n",
    "                    # add runs\n",
    "                    if whs <= repeat_thresh\n",
    "                        for _ in 1:repeat_count\n",
    "                            flow_est, source_reg, timer, results = test_registration_alg(reg_fun, img, imgw, flow, [whs, window], Dict(:timer => timer), timer=timer, display=false)\n",
    "                        end\n",
    "                    end\n",
    "                else\n",
    "                    timer = TimerOutput(\"blank\")\n",
    "                    results = Dict()\n",
    "                end\n",
    "\n",
    "                index = index + 1\n",
    "                println(\"at index: \", index, \" img_size:\", img_size, \" whs: \", whs)\n",
    "                push!(df, Dict(:index => index,\n",
    "                               :reg_fun => Symbol(reg_fun),\n",
    "                               :img_size => img_size,\n",
    "                               :whs => whs,\n",
    "                               :timer => timer,\n",
    "                               :results => results))\n",
    "            end\n",
    "        end\n",
    "    end\n",
    "end"
   ]
  }
 ],
 "metadata": {
  "kernelspec": {
   "display_name": "Julia 1.3.1",
   "language": "julia",
   "name": "julia-1.3"
  },
  "language_info": {
   "file_extension": ".jl",
   "mimetype": "application/julia",
   "name": "julia",
   "version": "1.3.1"
  }
 },
 "nbformat": 4,
 "nbformat_minor": 4
}
