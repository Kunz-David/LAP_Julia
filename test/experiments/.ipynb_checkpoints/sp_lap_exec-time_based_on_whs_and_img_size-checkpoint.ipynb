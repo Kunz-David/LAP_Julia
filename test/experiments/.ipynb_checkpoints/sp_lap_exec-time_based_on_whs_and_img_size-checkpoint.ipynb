{
 "cells": [
  {
   "cell_type": "markdown",
   "metadata": {},
   "source": [
    "# sparse_lap execution time based on whs and image_size"
   ]
  },
  {
   "cell_type": "code",
   "execution_count": 30,
   "metadata": {},
   "outputs": [],
   "source": [
    "using LAP_julia, TimerOutputs, DataFrames, TableView, JLD2, FileIO, PyPlot"
   ]
  },
  {
   "cell_type": "code",
   "execution_count": 25,
   "metadata": {},
   "outputs": [],
   "source": [
    "# run once, to get rid of compilation slowdown\n",
    "img, imgw, flow = gen_init()\n",
    "for reg_fun in [sparse_lap, sparse_lap_win_sum1]\n",
    "    whs = 12\n",
    "    window = [25, 25]\n",
    "    timer = TimerOutput(\"test\")\n",
    "    test_registration_alg(reg_fun, img, imgw, flow, [whs, window], Dict(:timer => timer), timer=timer, display=false)\n",
    "end"
   ]
  },
  {
   "cell_type": "markdown",
   "metadata": {},
   "source": [
    "## gather data"
   ]
  },
  {
   "cell_type": "code",
   "execution_count": 27,
   "metadata": {},
   "outputs": [],
   "source": [
    "# prepare new dataframe\n",
    "sp_lap_win_sum = DataFrame(\n",
    "    index = Int[],\n",
    "    reg_fun = Symbol[],\n",
    "    img_size = Int[],\n",
    "    whs = Int[],\n",
    "    timer = TimerOutput[],\n",
    "    results = Dict{String,Float64}[]\n",
    "    #Benchmark = BenchmarkTools.Trial[],\n",
    "    #flow = Matrix[],\n",
    "    #flow_est = Matrix[]\n",
    "    )\n",
    "\n",
    "window_half_sizes = cat(collect(1:51), collect(61:10:101), collect(141:40:381), dims=1);\n",
    "img_sizes = [50, 100, 200, 400, 800, 1600];"
   ]
  },
  {
   "cell_type": "code",
   "execution_count": 29,
   "metadata": {},
   "outputs": [
    {
     "ename": "AssertionError",
     "evalue": "AssertionError: length(non_nan) != 0",
     "output_type": "error",
     "traceback": [
      "AssertionError: length(non_nan) != 0",
      "",
      "Stacktrace:",
      " [1] interpolate_flow(::Array{Complex{Float64},2}, ::Array{CartesianIndex,1}, ::ScatteredInterpolation.Multiquadratic{Int64}) at /Users/MrTrololord/Google_Drive/cvut/bakalarka/LAP_julia/src/interpolation.jl:57",
      " [2] interpolate_flow at /Users/MrTrololord/Google_Drive/cvut/bakalarka/LAP_julia/src/interpolation.jl:55 [inlined]",
      " [3] macro expansion at /Users/MrTrololord/Google_Drive/cvut/bakalarka/LAP_julia/src/helpers.jl:217 [inlined]",
      " [4] macro expansion at /Users/MrTrololord/.julia/packages/TimerOutputs/dVnaw/src/TimerOutput.jl:190 [inlined]",
      " [5] #sparse_lap_win_sum1#106(::Int64, ::Int64, ::TimerOutput, ::typeof(sparse_lap_win_sum1), ::Array{Float64,2}, ::Array{Float64,2}, ::Int64, ::Array{Int64,1}) at /Users/MrTrololord/Google_Drive/cvut/bakalarka/LAP_julia/src/helpers.jl:216",
      " [6] (::LAP_julia.var\"#kw##sparse_lap_win_sum1\")(::NamedTuple{(:timer,),Tuple{TimerOutput}}, ::typeof(sparse_lap_win_sum1), ::Array{Float64,2}, ::Array{Float64,2}, ::Int64, ::Array{Int64,1}) at /Users/MrTrololord/Google_Drive/cvut/bakalarka/LAP_julia/src/helpers.jl:208",
      " [7] macro expansion at /Users/MrTrololord/Google_Drive/cvut/bakalarka/LAP_julia/src/experimenting/speedtest.jl:45 [inlined]",
      " [8] macro expansion at /Users/MrTrololord/.julia/packages/TimerOutputs/dVnaw/src/TimerOutput.jl:190 [inlined]",
      " [9] #test_registration_alg#105(::Bool, ::TimerOutput, ::typeof(test_registration_alg), ::Function, ::Array{Float64,2}, ::Array{Float64,2}, ::Array{Complex{Float64},2}, ::Array{Any,1}, ::Dict{Symbol,TimerOutput}) at /Users/MrTrololord/Google_Drive/cvut/bakalarka/LAP_julia/src/experimenting/speedtest.jl:44",
      " [10] (::LAP_julia.var\"#kw##test_registration_alg\")(::NamedTuple{(:timer, :display),Tuple{TimerOutput,Bool}}, ::typeof(test_registration_alg), ::Function, ::Array{Float64,2}, ::Array{Float64,2}, ::Array{Complex{Float64},2}, ::Array{Any,1}, ::Dict{Symbol,TimerOutput}) at /Users/MrTrololord/Google_Drive/cvut/bakalarka/LAP_julia/src/experimenting/speedtest.jl:42",
      " [11] top-level scope at In[29]:16"
     ]
    }
   ],
   "source": [
    "# fill dataframe\n",
    "df = sp_lap_win_sum\n",
    "let index = 0\n",
    "    for img_size in img_sizes\n",
    "        img, imgw, flow = gen_init(:chess, chess_args=[25, img_size/25])\n",
    "\n",
    "        # limit the max window half size to 1/4 the image\n",
    "        whs_limit = img_size/4\n",
    "        whs_modified = map(x -> x <= whs_limit ? x : 0, window_half_sizes)\n",
    "\n",
    "        for whs in whs_modified\n",
    "            for reg_fun in [sparse_lap_win_sum1, sparse_lap]\n",
    "                if whs != 0\n",
    "                    window = [whs * 2 + 1, whs * 2 + 1]\n",
    "                    # window sum 1\n",
    "                    timer = TimerOutput(\"reg alg: sp lap\")\n",
    "                    flow_est, source_reg, timer, results = test_registration_alg(reg_fun, img, imgw, flow, [whs, window], Dict(:timer => timer), timer=timer, display=false)\n",
    "                else\n",
    "                    timer = TimerOutput(\"blank\")\n",
    "                    results = Dict()\n",
    "                end\n",
    "\n",
    "                index = index + 1\n",
    "                println(\"at index: \", index)\n",
    "                push!(df, Dict(:index => index,\n",
    "                               :reg_fun => Symbol(reg_fun),\n",
    "                               :img_size => img_size,\n",
    "                               :whs => whs,\n",
    "                               :timer => timer,\n",
    "                               :results => results))\n",
    "            end\n",
    "        end\n",
    "    end\n",
    "end\n",
    "                \n",
    "@save \"sp_lap_win_sum_df.jld2\" df   "
   ]
  },
  {
   "cell_type": "markdown",
   "metadata": {},
   "source": [
    "## Visualise results"
   ]
  },
  {
   "cell_type": "code",
   "execution_count": null,
   "metadata": {},
   "outputs": [],
   "source": [
    "sections = [\"reg alg: sp lap\", \"sparse lap\", \"prepare A and b\"]\n",
    "fig, axs = subplots(6, sharex=true, figsize=(10,10))\n",
    "for (img_size, ax) in zip(img_sizes, axs)\n",
    "    ax.set_title(\"Image Size: \" * string(img_size))\n",
    "\n",
    "    n = count(k -> k < (img_size/4), window_half_sizes)\n",
    "    timers1 = df[(df.reg_fun .== :sparse_lap_win_sum1) .& (df.img_size .== img_size), :][:, :timer][1:n]\n",
    "    timers3 = df[(df.reg_fun .== :sparse_lap) .& (df.img_size .== img_size), :][:, :timer][1:n]\n",
    "\n",
    "    y1 = map(x -> TimerOutputs.time(get_timer(x, sections))/10e8, timers1)\n",
    "    y3 = map(x -> TimerOutputs.time(get_timer(x, sections))/10e8, timers3)\n",
    "    x = collect(1:n)\n",
    "\n",
    "    yscale(\"log\")\n",
    "    subplots_adjust(top=1.5)\n",
    "    ax.plot(x, y1)\n",
    "    ax.plot(x, y3)\n",
    "    xlabel(\"whs [pixels]\")\n",
    "    ax.set_ylabel(\"time [s]\")\n",
    "end\n",
    "gcf()"
   ]
  },
  {
   "cell_type": "markdown",
   "metadata": {},
   "source": [
    "## helper functions"
   ]
  },
  {
   "cell_type": "code",
   "execution_count": null,
   "metadata": {},
   "outputs": [],
   "source": [
    "# get the timer[sections[1]][sections[2]]... and print errors, if errored return blank timer.\n",
    "function get_timer(timer, sections)\n",
    "    private_sections = copy(sections)\n",
    "    try\n",
    "        timer[private_sections[1]]\n",
    "    catch e\n",
    "        println(e)\n",
    "        return TimerOutput()\n",
    "    end\n",
    "    out = timer\n",
    "    while private_sections != []\n",
    "        out = out[popfirst!(private_sections)]\n",
    "    end\n",
    "    return out\n",
    "end\n",
    "\n"
   ]
  }
 ],
 "metadata": {
  "kernelspec": {
   "display_name": "Julia 1.3.1",
   "language": "julia",
   "name": "julia-1.3"
  },
  "language_info": {
   "file_extension": ".jl",
   "mimetype": "application/julia",
   "name": "julia",
   "version": "1.3.1"
  }
 },
 "nbformat": 4,
 "nbformat_minor": 4
}
