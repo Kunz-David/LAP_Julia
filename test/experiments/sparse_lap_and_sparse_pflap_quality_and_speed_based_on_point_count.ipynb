{
 "cells": [
  {
   "cell_type": "markdown",
   "metadata": {},
   "source": [
    "# `sparse_lap` and `sparse_pflap` quality and speed based on point count"
   ]
  },
  {
   "cell_type": "markdown",
   "metadata": {},
   "source": [
    "__Goal__: See the relationship between the `sparse_lap` quality and speed based on the number of points used in the algorithm.\n",
    "\n",
    "__Data__: all `point_counts` * `spacings` * `diag_sizes`"
   ]
  },
  {
   "cell_type": "code",
   "execution_count": 1,
   "metadata": {},
   "outputs": [
    {
     "name": "stderr",
     "output_type": "stream",
     "text": [
      "┌ Info: Precompiling LAP_julia [797d5b5c-2e9a-429f-9c9f-727808915e33]\n",
      "└ @ Base loading.jl:1273\n",
      "WARNING: eval into closed module __toplevel__:\n",
      "Expr(:import, Expr(:., :QuartzImageIO))\n",
      "  ** incremental compilation may be fatally broken for this module **\n",
      "\n",
      "WARNING: eval into closed module FileIO:\n",
      ":QuartzImageIO = Expr(:ref, Expr(:., :Base, :(:loaded_modules)), Base.PkgId(uuid=Base.UUID(value=UInt128(0xdca85d43d64c5e678c65017450d5d020)), name=\"QuartzImageIO\"))\n",
      "  ** incremental compilation may be fatally broken for this module **\n",
      "\n",
      "WARNING: ColorTypes.RGB4 is deprecated, use RGBX instead.\n",
      "  likely near /Users/MrTrololord/Google_Drive/cvut/bakalarka/LAP_julia/src/birl.jl:16\n",
      "WARNING: importing deprecated binding ColorTypes.RGB1 into QuartzImageIO.\n",
      "WARNING: ColorTypes.RGB1 is deprecated, use XRGB instead.\n",
      "  likely near /Users/MrTrololord/Google_Drive/cvut/bakalarka/LAP_julia/src/birl.jl:16\n",
      "WARNING: ColorTypes.RGB4 is deprecated, use RGBX instead.\n",
      "  likely near /Users/MrTrololord/Google_Drive/cvut/bakalarka/LAP_julia/src/birl.jl:16\n",
      "WARNING: ColorTypes.RGB1 is deprecated, use XRGB instead.\n",
      "  likely near /Users/MrTrololord/Google_Drive/cvut/bakalarka/LAP_julia/src/birl.jl:16\n",
      "WARNING: ColorTypes.RGB4 is deprecated, use RGBX instead.\n",
      "  likely near /Users/MrTrololord/Google_Drive/cvut/bakalarka/LAP_julia/src/birl.jl:16\n",
      "in read_and_release_imgsrc at /Users/MrTrololord/.julia/packages/QuartzImageIO/AjiIs/src/QuartzImageIO.jl\n",
      "WARNING: ColorTypes.RGB1 is deprecated, use XRGB instead.\n",
      "  likely near /Users/MrTrololord/Google_Drive/cvut/bakalarka/LAP_julia/src/birl.jl:16\n",
      "in read_and_release_imgsrc at /Users/MrTrololord/.julia/packages/QuartzImageIO/AjiIs/src/QuartzImageIO.jl\n"
     ]
    },
    {
     "name": "stdout",
     "output_type": "stream",
     "text": [
      "150\n",
      "LAP_julia succesfully loaded!\n"
     ]
    },
    {
     "data": {
      "text/html": [
       "<script>\n",
       "// Immediately-invoked-function-expression to avoid global variables.\n",
       "(function() {\n",
       "    var warning_div = document.getElementById(\"webio-warning-4017411767714770123\");\n",
       "    var hide = function () {\n",
       "        var script = document.getElementById(\"webio-setup-672173815618279499\");\n",
       "        var parent = script && script.parentElement;\n",
       "        var grandparent = parent && parent.parentElement;\n",
       "        if (grandparent) {\n",
       "            grandparent.style.display = \"none\";\n",
       "        }\n",
       "        warning_div.style.display = \"none\";\n",
       "    };\n",
       "    if (typeof Jupyter !== \"undefined\") {\n",
       "        console.log(\"WebIO detected Jupyter notebook environment.\");\n",
       "        // Jupyter notebook.\n",
       "        var extensions = (\n",
       "            Jupyter\n",
       "            && Jupyter.notebook.config.data\n",
       "            && Jupyter.notebook.config.data.load_extensions\n",
       "        );\n",
       "        if (extensions && extensions[\"webio-jupyter-notebook\"]) {\n",
       "            // Extension already loaded.\n",
       "            console.log(\"Jupyter WebIO nbextension detected; not loading ad-hoc.\");\n",
       "            hide();\n",
       "            return;\n",
       "        }\n",
       "    } else if (window.location.pathname.includes(\"/lab\")) {\n",
       "        // Guessing JupyterLa\n",
       "        console.log(\"Jupyter Lab detected; make sure the @webio/jupyter-lab-provider labextension is installed.\");\n",
       "        hide();\n",
       "        return;\n",
       "    }\n",
       "})();\n",
       "\n",
       "</script>\n",
       "<p\n",
       "    id=\"webio-warning-4017411767714770123\"\n",
       "    class=\"output_text output_stderr\"\n",
       "    style=\"padding: 1em; font-weight: bold;\"\n",
       ">\n",
       "    Unable to load WebIO. Please make sure WebIO works for your Jupyter client.\n",
       "    For troubleshooting, please see <a href=\"https://juliagizmos.github.io/WebIO.jl/latest/providers/ijulia/\">\n",
       "    the WebIO/IJulia documentation</a>.\n",
       "    <!-- TODO: link to installation docs. -->\n",
       "</p>\n"
      ],
      "text/plain": [
       "HTML{String}(\"<script>\\n// Immediately-invoked-function-expression to avoid global variables.\\n(function() {\\n    var warning_div = document.getElementById(\\\"webio-warning-4017411767714770123\\\");\\n    var hide = function () {\\n        var script = document.getElementById(\\\"webio-setup-672173815618279499\\\");\\n        var parent = script && script.parentElement;\\n        var grandparent = parent && parent.parentElement;\\n        if (grandparent) {\\n            grandparent.style.display = \\\"none\\\";\\n        }\\n        warning_div.style.display = \\\"none\\\";\\n    };\\n    if (typeof Jupyter !== \\\"undefined\\\") {\\n        console.log(\\\"WebIO detected Jupyter notebook environment.\\\");\\n        // Jupyter notebook.\\n        var extensions = (\\n            Jupyter\\n            && Jupyter.notebook.config.data\\n            && Jupyter.notebook.config.data.load_extensions\\n        );\\n        if (extensions && extensions[\\\"webio-jupyter-notebook\\\"]) {\\n            // Extension already loaded.\\n            console.log(\\\"Jupyter WebIO nbextension detected; not loading ad-hoc.\\\");\\n            hide();\\n            return;\\n        }\\n    } else if (window.location.pathname.includes(\\\"/lab\\\")) {\\n        // Guessing JupyterLa\\n        console.log(\\\"Jupyter Lab detected; make sure the @webio/jupyter-lab-provider labextension is installed.\\\");\\n        hide();\\n        return;\\n    }\\n})();\\n\\n</script>\\n<p\\n    id=\\\"webio-warning-4017411767714770123\\\"\\n    class=\\\"output_text output_stderr\\\"\\n    style=\\\"padding: 1em; font-weight: bold;\\\"\\n>\\n    Unable to load WebIO. Please make sure WebIO works for your Jupyter client.\\n    For troubleshooting, please see <a href=\\\"https://juliagizmos.github.io/WebIO.jl/latest/providers/ijulia/\\\">\\n    the WebIO/IJulia documentation</a>.\\n    <!-- TODO: link to installation docs. -->\\n</p>\\n\")"
      ]
     },
     "metadata": {},
     "output_type": "display_data"
    },
    {
     "data": {
      "text/html": [
       "<script>\n",
       "// Immediately-invoked-function-expression to avoid global variables.\n",
       "(function() {\n",
       "    var warning_div = document.getElementById(\"webio-warning-10506825768061520477\");\n",
       "    var hide = function () {\n",
       "        var script = document.getElementById(\"webio-setup-5852311675925512969\");\n",
       "        var parent = script && script.parentElement;\n",
       "        var grandparent = parent && parent.parentElement;\n",
       "        if (grandparent) {\n",
       "            grandparent.style.display = \"none\";\n",
       "        }\n",
       "        warning_div.style.display = \"none\";\n",
       "    };\n",
       "    if (typeof Jupyter !== \"undefined\") {\n",
       "        console.log(\"WebIO detected Jupyter notebook environment.\");\n",
       "        // Jupyter notebook.\n",
       "        var extensions = (\n",
       "            Jupyter\n",
       "            && Jupyter.notebook.config.data\n",
       "            && Jupyter.notebook.config.data.load_extensions\n",
       "        );\n",
       "        if (extensions && extensions[\"webio-jupyter-notebook\"]) {\n",
       "            // Extension already loaded.\n",
       "            console.log(\"Jupyter WebIO nbextension detected; not loading ad-hoc.\");\n",
       "            hide();\n",
       "            return;\n",
       "        }\n",
       "    } else if (window.location.pathname.includes(\"/lab\")) {\n",
       "        // Guessing JupyterLa\n",
       "        console.log(\"Jupyter Lab detected; make sure the @webio/jupyter-lab-provider labextension is installed.\");\n",
       "        hide();\n",
       "        return;\n",
       "    }\n",
       "})();\n",
       "\n",
       "</script>\n",
       "<p\n",
       "    id=\"webio-warning-10506825768061520477\"\n",
       "    class=\"output_text output_stderr\"\n",
       "    style=\"padding: 1em; font-weight: bold;\"\n",
       ">\n",
       "    Unable to load WebIO. Please make sure WebIO works for your Jupyter client.\n",
       "    For troubleshooting, please see <a href=\"https://juliagizmos.github.io/WebIO.jl/latest/providers/ijulia/\">\n",
       "    the WebIO/IJulia documentation</a>.\n",
       "    <!-- TODO: link to installation docs. -->\n",
       "</p>\n"
      ],
      "text/plain": [
       "HTML{String}(\"<script>\\n// Immediately-invoked-function-expression to avoid global variables.\\n(function() {\\n    var warning_div = document.getElementById(\\\"webio-warning-10506825768061520477\\\");\\n    var hide = function () {\\n        var script = document.getElementById(\\\"webio-setup-5852311675925512969\\\");\\n        var parent = script && script.parentElement;\\n        var grandparent = parent && parent.parentElement;\\n        if (grandparent) {\\n            grandparent.style.display = \\\"none\\\";\\n        }\\n        warning_div.style.display = \\\"none\\\";\\n    };\\n    if (typeof Jupyter !== \\\"undefined\\\") {\\n        console.log(\\\"WebIO detected Jupyter notebook environment.\\\");\\n        // Jupyter notebook.\\n        var extensions = (\\n            Jupyter\\n            && Jupyter.notebook.config.data\\n            && Jupyter.notebook.config.data.load_extensions\\n        );\\n        if (extensions && extensions[\\\"webio-jupyter-notebook\\\"]) {\\n            // Extension already loaded.\\n            console.log(\\\"Jupyter WebIO nbextension detected; not loading ad-hoc.\\\");\\n            hide();\\n            return;\\n        }\\n    } else if (window.location.pathname.includes(\\\"/lab\\\")) {\\n        // Guessing JupyterLa\\n        console.log(\\\"Jupyter Lab detected; make sure the @webio/jupyter-lab-provider labextension is installed.\\\");\\n        hide();\\n        return;\\n    }\\n})();\\n\\n</script>\\n<p\\n    id=\\\"webio-warning-10506825768061520477\\\"\\n    class=\\\"output_text output_stderr\\\"\\n    style=\\\"padding: 1em; font-weight: bold;\\\"\\n>\\n    Unable to load WebIO. Please make sure WebIO works for your Jupyter client.\\n    For troubleshooting, please see <a href=\\\"https://juliagizmos.github.io/WebIO.jl/latest/providers/ijulia/\\\">\\n    the WebIO/IJulia documentation</a>.\\n    <!-- TODO: link to installation docs. -->\\n</p>\\n\")"
      ]
     },
     "metadata": {},
     "output_type": "display_data"
    },
    {
     "name": "stderr",
     "output_type": "stream",
     "text": [
      "WARNING: using DataFrames.showall in module Main conflicts with an existing identifier.\n"
     ]
    }
   ],
   "source": [
    "using LAP_julia, TimerOutputs, DataFrames, TableView, JLD2, FileIO, PyPlot, BenchmarkTools, Interact\n",
    "using LAP_julia: fun_on_dict_values, resize_to_diag_size"
   ]
  },
  {
   "cell_type": "code",
   "execution_count": 2,
   "metadata": {},
   "outputs": [
    {
     "data": {
      "text/plain": [
       "1440"
      ]
     },
     "execution_count": 2,
     "metadata": {},
     "output_type": "execute_result"
    }
   ],
   "source": [
    "# prepare new dataframe\n",
    "sp_lap_point_count = DataFrame(\n",
    "    index = Int[],\n",
    "    diag_size = Int[],\n",
    "    whs = Int[],\n",
    "    timer = TimerOutput[],\n",
    "    median_results = Dict{String,Float64}[],\n",
    "    point_count = Int[],\n",
    "    spacing = Int[],\n",
    "    points_found = Float16[]\n",
    "    );\n",
    "\n",
    "# window half sizes/half sizes of filter bases, also half this number is the maximal displacement.\n",
    "#window_half_sizes = [15, 30, 45]\n",
    "window_half_sizes = [25]\n",
    "# diagonal size of the images\n",
    "diag_sizes = [400, 600, 900, 1200];\n",
    "# point counts\n",
    "point_counts = [50, 200, 350, 500, 650, 800, 1100, 1400]\n",
    "# minimal number of pixels between two points.\n",
    "spacings = [5, 15, 35, 50, 60, 80, 100, 120, 140]\n",
    "# number of anhir images used, these are warped by a known flow.\n",
    "img_count = 5;\n",
    "\n",
    "# arrays\n",
    "errors = Array{Any}(undef, 0);\n",
    "imgs = Array{Image}(undef, 5);\n",
    "\n",
    "total_iterations = sum(broadcast(*, length.([window_half_sizes, diag_sizes, point_counts, spacings])...)) * img_count"
   ]
  },
  {
   "cell_type": "code",
   "execution_count": 3,
   "metadata": {},
   "outputs": [
    {
     "name": "stderr",
     "output_type": "stream",
     "text": [
      "┌ Warning: `getindex(df::DataFrame, col_ind::ColumnIndex)` is deprecated, use `df[!, col_ind]` instead.\n",
      "│   caller = #gen_anhir#29(::Bool, ::Int64, ::typeof(gen_anhir), ::String) at data_gen.jl:10\n",
      "└ @ LAP_julia /Users/MrTrololord/Google_Drive/cvut/bakalarka/LAP_julia/src/data_gen.jl:10\n"
     ]
    },
    {
     "name": "stdout",
     "output_type": "stream",
     "text": [
      "/Users/MrTrololord/Documents/anhir/dataset/COAD_19/scale-25pc/S3.jpg\n",
      "sizes: (11214, 11618), (14618, 11399)"
     ]
    },
    {
     "name": "stderr",
     "output_type": "stream",
     "text": [
      "WARNING: ColorTypes.RGB4 is deprecated, use RGBX instead.\n",
      "  likely near /Users/MrTrololord/.julia/packages/IJulia/DrVMH/src/kernel.jl:52\n",
      "WARNING: importing deprecated binding ColorTypes.RGB1 into QuartzImageIO.\n",
      "WARNING: ColorTypes.RGB1 is deprecated, use XRGB instead.\n",
      "  likely near /Users/MrTrololord/.julia/packages/IJulia/DrVMH/src/kernel.jl:52\n",
      "WARNING: ColorTypes.RGB4 is deprecated, use RGBX instead.\n",
      "  likely near /Users/MrTrololord/.julia/packages/IJulia/DrVMH/src/kernel.jl:52\n",
      "WARNING: ColorTypes.RGB1 is deprecated, use XRGB instead.\n",
      "  likely near /Users/MrTrololord/.julia/packages/IJulia/DrVMH/src/kernel.jl:52\n",
      "WARNING: ColorTypes.RGB4 is deprecated, use RGBX instead.\n",
      "  likely near /Users/MrTrololord/.julia/packages/IJulia/DrVMH/src/kernel.jl:52\n",
      "in read_and_release_imgsrc at /Users/MrTrololord/.julia/packages/QuartzImageIO/AjiIs/src/QuartzImageIO.jl\n",
      "WARNING: ColorTypes.RGB1 is deprecated, use XRGB instead.\n",
      "  likely near /Users/MrTrololord/.julia/packages/IJulia/DrVMH/src/kernel.jl:52\n",
      "in read_and_release_imgsrc at /Users/MrTrololord/.julia/packages/QuartzImageIO/AjiIs/src/QuartzImageIO.jl\n"
     ]
    },
    {
     "name": "stdout",
     "output_type": "stream",
     "text": [
      "\n",
      "/Users/MrTrololord/Documents/anhir/dataset/lung-lobes_3/scale-100pc/29-040-U-35W-Izd1-2-cd31.png\n",
      "sizes: (11429, 5520), (10583, 5497)\n",
      "/Users/MrTrololord/Documents/anhir/dataset/lung-lobes_1/scale-100pc/29-039-U-35W-Izd1-3-Pro-SPC.png\n",
      "sizes: (9776, 5335), (9753, 4731)\n",
      "/Users/MrTrololord/Documents/anhir/dataset/gastric_6/scale-15pc/CD4.jpg\n",
      "sizes: (12404, 9860), (12287, 9562)\n",
      "/Users/MrTrololord/Documents/anhir/dataset/gastric_5/scale-15pc/CD68.jpg\n",
      "sizes: (12589, 11354), (12928, 11056)\n"
     ]
    }
   ],
   "source": [
    "# prepare images:\n",
    "for k in 1:img_count\n",
    "    imgs[k], _ = gen_anhir(mutate=false); # here pass a kwarg: base_path=\"path/to/anhir/folder/\"\n",
    "end"
   ]
  },
  {
   "cell_type": "code",
   "execution_count": 4,
   "metadata": {},
   "outputs": [],
   "source": [
    "# erase old_results\n",
    "df = sp_lap_point_count;"
   ]
  },
  {
   "cell_type": "markdown",
   "metadata": {},
   "source": [
    "## gather data"
   ]
  },
  {
   "cell_type": "code",
   "execution_count": 6,
   "metadata": {},
   "outputs": [
    {
     "ename": "LoadError",
     "evalue": "syntax: unexpected \")\"",
     "output_type": "error",
     "traceback": [
      "syntax: unexpected \")\"",
      ""
     ]
    }
   ],
   "source": [
    "let index = 0\n",
    "    for diag_size in diag_sizes\n",
    "        for whs in window_half_sizes\n",
    "            for point_count in point_counts, spacing in spacings\n",
    "                timer = TimerOutput(\"reg alg: sp lap\")\n",
    "                results_dicts = Array{Dict}(undef, img_count)\n",
    "                inds_array = Array{Array{Any}}(undef, img_count)\n",
    "\n",
    "                for k in 1:img_count\n",
    "                    img = resize_to_diag_size(imgs[k], diag_size)\n",
    "                    whs_limited = round(Int, min(whs, min(size(img)...)/4))\n",
    "                    rand_flow = gen_quad_flow(size(img), whs_limited)\n",
    "                    imgw = warp_img(img, real(rand_flow), imag(rand_flow))\n",
    "                    try\n",
    "                        # run registration function\n",
    "                        _, _, timer, results_dicts[k], (_, inds_array[k]) = test_registration_alg(sparse_lap,\n",
    "                            img, imgw, rand_flow, [whs_limited], Dict(:timer => timer, :point_count =>\n",
    "                                point_count, :spacing => spacing), timer=timer, display=false)\n",
    "                    catch e\n",
    "                        println(e)\n",
    "                        push!(errors, [e, img, imgw, rand_flow, whs_limited])\n",
    "                        continue\n",
    "                    end\n",
    "                end\n",
    "                # if no data gathered:\n",
    "                if any(x-> 0 .== x, length.([results_dicts, inds_array]))\n",
    "                    println(\"SKIPPED: diag_size:\", diag_size, \" whs: \", whs)\n",
    "                    continue\n",
    "                end\n",
    "\n",
    "                median_results = fun_on_dict_values(filter_defined(results_dicts), median)\n",
    "                avg_points_found = LAP_julia.mean(map(x -> length(x), filter_defined(inds_array)))\n",
    "\n",
    "                index = index + 1\n",
    "                println(\"at index: \", index, \" (of $()\", \" diag_size: \", diag_size, \" whs: \", whs)\n",
    "                push!(df, Dict(:index => index,\n",
    "                               :diag_size => diag_size,\n",
    "                               :whs => whs,\n",
    "                               :timer => timer,\n",
    "                               :median_results => median_results,\n",
    "                               :point_count => point_count,\n",
    "                               :spacing => spacing,\n",
    "                               :points_found => avg_points_found\n",
    "                               ))\n",
    "            end # point_count in point_counts, spacing in spacings\n",
    "        end\n",
    "    end\n",
    "end"
   ]
  },
  {
   "cell_type": "markdown",
   "metadata": {},
   "source": [
    "## Visualise results"
   ]
  },
  {
   "cell_type": "code",
   "execution_count": null,
   "metadata": {},
   "outputs": [],
   "source": []
  },
  {
   "cell_type": "markdown",
   "metadata": {},
   "source": [
    "### helper functions"
   ]
  },
  {
   "cell_type": "code",
   "execution_count": 5,
   "metadata": {},
   "outputs": [
    {
     "data": {
      "text/plain": [
       "filter_defined (generic function with 1 method)"
      ]
     },
     "execution_count": 5,
     "metadata": {},
     "output_type": "execute_result"
    }
   ],
   "source": [
    "defined_perms(arraylike) = filter(k -> isassigned(arraylike, k), 1:length(arraylike))\n",
    "filter_defined(arraylike) = arraylike[defined_perms(arraylike)]"
   ]
  },
  {
   "cell_type": "code",
   "execution_count": null,
   "metadata": {},
   "outputs": [],
   "source": []
  }
 ],
 "metadata": {
  "kernelspec": {
   "display_name": "Julia 1.3.1",
   "language": "julia",
   "name": "julia-1.3"
  },
  "language_info": {
   "file_extension": ".jl",
   "mimetype": "application/julia",
   "name": "julia",
   "version": "1.3.1"
  }
 },
 "nbformat": 4,
 "nbformat_minor": 4
}
