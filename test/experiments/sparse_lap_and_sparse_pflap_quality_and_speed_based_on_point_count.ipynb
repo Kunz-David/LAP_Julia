{
 "cells": [
  {
   "cell_type": "markdown",
   "metadata": {},
   "source": [
    "# `sparse_lap` and `sparse_pflap` quality and speed based on point count"
   ]
  },
  {
   "cell_type": "markdown",
   "metadata": {},
   "source": [
    "__Goal__: See the relationship between the `sparse_lap` quality and speed based on the number of points used in the algorithm.\n",
    "\n",
    "__Data__: all `point_counts` * `spacings` * `diag_sizes`"
   ]
  },
  {
   "cell_type": "code",
   "execution_count": 26,
   "metadata": {},
   "outputs": [
    {
     "name": "stderr",
     "output_type": "stream",
     "text": [
      "┌ Info: Installing Jupyter WebIO extension...\n",
      "│   cmd = `\u001b[4m/Users/MrTrololord/.julia/conda/3/bin/jupyter\u001b[24m \u001b[4mnbextension\u001b[24m \u001b[4minstall\u001b[24m \u001b[4m--user\u001b[24m \u001b[4m/Users/MrTrololord/.julia/packages/WebIO/2nnB1/deps/bundles/webio-jupyter-notebook.js\u001b[24m`\n",
      "└ @ WebIO /Users/MrTrololord/.julia/packages/WebIO/2nnB1/deps/jupyter.jl:237\n",
      "Up to date: /Users/MrTrololord/Library/Jupyter/nbextensions/webio-jupyter-notebook.js\n",
      "\n",
      "    To initialize this nbextension in the browser every time the notebook (or other app) loads:\n",
      "    \n",
      "          jupyter nbextension enable <the entry point> --user\n",
      "    \n",
      "┌ Info: Enabling Jupyter WebIO extension...\n",
      "│   cmd = `\u001b[4m/Users/MrTrololord/.julia/conda/3/bin/jupyter\u001b[24m \u001b[4mnbextension\u001b[24m \u001b[4menable\u001b[24m \u001b[4m--user\u001b[24m \u001b[4mwebio-jupyter-notebook\u001b[24m`\n",
      "└ @ WebIO /Users/MrTrololord/.julia/packages/WebIO/2nnB1/deps/jupyter.jl:241\n",
      "Enabling notebook extension webio-jupyter-notebook...\n",
      "      - Validating: \u001b[32mOK\u001b[0m\n"
     ]
    }
   ],
   "source": [
    "using LAP_julia, TimerOutputs, DataFrames, TableView, JLD2, FileIO, PyPlot, BenchmarkTools, Interact\n",
    "using LAP_julia: fun_on_dict_values, resize_to_diag_size\n",
    "using WebIO\n",
    "WebIO.install_jupyter_nbextension()"
   ]
  },
  {
   "cell_type": "code",
   "execution_count": 51,
   "metadata": {},
   "outputs": [
    {
     "data": {
      "text/plain": [
       "288"
      ]
     },
     "execution_count": 51,
     "metadata": {},
     "output_type": "execute_result"
    }
   ],
   "source": [
    "# prepare new dataframe\n",
    "sp_lap_point_count = DataFrame(\n",
    "    index = Int[],\n",
    "    diag_size = Int[],\n",
    "    whs = Int[],\n",
    "    timer = TimerOutput[],\n",
    "    median_results = Dict{String,Float64}[],\n",
    "    point_count = Int[],\n",
    "    spacing = Int[],\n",
    "    points_found = Float16[]\n",
    "    );\n",
    "\n",
    "# window half sizes/half sizes of filter bases, also half this number is the maximal displacement.\n",
    "#window_half_sizes = [15, 30, 45\n",
    "window_half_sizes = [20]\n",
    "# diagonal size of the images\n",
    "diag_sizes = [400, 550, 700];\n",
    "# point counts\n",
    "point_counts = [50, 200, 350, 500, 650, 800, 1100, 1400]\n",
    "# minimal number of pixels between two points.\n",
    "#spacings = [5, 15, 35, 50, 60, 80, 100, 120, 140]\n",
    "spacings = [5, 7, 10, 14, 18, 22, 26, 30, 36, 40, 50, 60]\n",
    "# number of anhir images used, these are warped by a known flow.\n",
    "img_count = 5;\n",
    "\n",
    "# arrays\n",
    "errors = Array{Any}(undef, 0);\n",
    "\n",
    "total_iterations = sum(broadcast(*, length.([window_half_sizes, diag_sizes, point_counts, spacings])...))"
   ]
  },
  {
   "cell_type": "code",
   "execution_count": 52,
   "metadata": {},
   "outputs": [
    {
     "name": "stdout",
     "output_type": "stream",
     "text": [
      "/Users/MrTrololord/Documents/anhir/dataset/COAD_19/scale-25pc/S5.jpg\n",
      "sizes: (12395, 12072), (12675, 11212)\n",
      "/Users/MrTrololord/Documents/anhir/dataset/mice-kidney_1/scale-25pc/2_aSMA.jpg\n",
      "sizes: (7552, 9216), (7808, 8192)\n",
      "/Users/MrTrololord/Documents/anhir/dataset/COAD_17/scale-25pc/S1.jpg\n",
      "sizes: (13254, 8752), (13124, 7458)\n",
      "/Users/MrTrololord/Documents/anhir/dataset/mammary-gland_2/scale-25pc/s2_61-HE_A4926-4L.jpg\n",
      "sizes: (2946, 9412), (2580, 9412)\n",
      "/Users/MrTrololord/Documents/anhir/dataset/mammary-gland_2/scale-25pc/s2_63-HE_A4926-4L.jpg\n",
      "sizes: (2580, 9412), (2946, 9412)\n"
     ]
    }
   ],
   "source": [
    "# prepare images:\n",
    "imgs = Array{Image}(undef, 5);\n",
    "for k in 1:img_count\n",
    "    imgs[k], _ = gen_anhir(mutate=false); # here pass a kwarg: base_path=\"path/to/anhir/folder/\"\n",
    "end"
   ]
  },
  {
   "cell_type": "code",
   "execution_count": 53,
   "metadata": {},
   "outputs": [],
   "source": [
    "# erase old_results\n",
    "df = sp_lap_point_count;"
   ]
  },
  {
   "cell_type": "markdown",
   "metadata": {},
   "source": [
    "## gather data"
   ]
  },
  {
   "cell_type": "code",
   "execution_count": 54,
   "metadata": {},
   "outputs": [
    {
     "name": "stdout",
     "output_type": "stream",
     "text": [
      "at index: 1 (of 288)  diag_size: 400 whs: 20\n",
      "at index: 2 (of 288)  diag_size: 400 whs: 20\n",
      "at index: 3 (of 288)  diag_size: 400 whs: 20\n",
      "at index: 4 (of 288)  diag_size: 400 whs: 20\n",
      "at index: 5 (of 288)  diag_size: 400 whs: 20\n",
      "at index: 6 (of 288)  diag_size: 400 whs: 20\n",
      "at index: 7 (of 288)  diag_size: 400 whs: 20\n",
      "at index: 8 (of 288)  diag_size: 400 whs: 20\n",
      "at index: 9 (of 288)  diag_size: 400 whs: 20\n",
      "at index: 10 (of 288)  diag_size: 400 whs: 20\n",
      "at index: 11 (of 288)  diag_size: 400 whs: 20\n",
      "at index: 12 (of 288)  diag_size: 400 whs: 20\n",
      "at index: 13 (of 288)  diag_size: 400 whs: 20\n",
      "at index: 14 (of 288)  diag_size: 400 whs: 20\n",
      "at index: 15 (of 288)  diag_size: 400 whs: 20\n",
      "at index: 16 (of 288)  diag_size: 400 whs: 20\n",
      "at index: 17 (of 288)  diag_size: 400 whs: 20\n",
      "at index: 18 (of 288)  diag_size: 400 whs: 20\n",
      "at index: 19 (of 288)  diag_size: 400 whs: 20\n",
      "at index: 20 (of 288)  diag_size: 400 whs: 20\n",
      "at index: 21 (of 288)  diag_size: 400 whs: 20\n",
      "at index: 22 (of 288)  diag_size: 400 whs: 20\n",
      "at index: 23 (of 288)  diag_size: 400 whs: 20\n",
      "at index: 24 (of 288)  diag_size: 400 whs: 20\n",
      "at index: 25 (of 288)  diag_size: 400 whs: 20\n",
      "at index: 26 (of 288)  diag_size: 400 whs: 20\n",
      "at index: 27 (of 288)  diag_size: 400 whs: 20\n",
      "at index: 28 (of 288)  diag_size: 400 whs: 20\n",
      "at index: 29 (of 288)  diag_size: 400 whs: 20\n",
      "at index: 30 (of 288)  diag_size: 400 whs: 20\n",
      "at index: 31 (of 288)  diag_size: 400 whs: 20\n",
      "at index: 32 (of 288)  diag_size: 400 whs: 20\n",
      "at index: 33 (of 288)  diag_size: 400 whs: 20\n",
      "at index: 34 (of 288)  diag_size: 400 whs: 20\n",
      "at index: 35 (of 288)  diag_size: 400 whs: 20\n",
      "at index: 36 (of 288)  diag_size: 400 whs: 20\n",
      "at index: 37 (of 288)  diag_size: 400 whs: 20\n",
      "at index: 38 (of 288)  diag_size: 400 whs: 20\n",
      "at index: 39 (of 288)  diag_size: 400 whs: 20\n",
      "at index: 40 (of 288)  diag_size: 400 whs: 20\n",
      "at index: 41 (of 288)  diag_size: 400 whs: 20\n",
      "at index: 42 (of 288)  diag_size: 400 whs: 20\n",
      "at index: 43 (of 288)  diag_size: 400 whs: 20\n",
      "at index: 44 (of 288)  diag_size: 400 whs: 20\n",
      "at index: 45 (of 288)  diag_size: 400 whs: 20\n",
      "at index: 46 (of 288)  diag_size: 400 whs: 20\n",
      "at index: 47 (of 288)  diag_size: 400 whs: 20\n",
      "at index: 48 (of 288)  diag_size: 400 whs: 20\n",
      "at index: 49 (of 288)  diag_size: 400 whs: 20\n",
      "at index: 50 (of 288)  diag_size: 400 whs: 20\n",
      "at index: 51 (of 288)  diag_size: 400 whs: 20\n",
      "at index: 52 (of 288)  diag_size: 400 whs: 20\n",
      "at index: 53 (of 288)  diag_size: 400 whs: 20\n",
      "at index: 54 (of 288)  diag_size: 400 whs: 20\n",
      "at index: 55 (of 288)  diag_size: 400 whs: 20\n",
      "at index: 56 (of 288)  diag_size: 400 whs: 20\n",
      "at index: 57 (of 288)  diag_size: 400 whs: 20\n",
      "at index: 58 (of 288)  diag_size: 400 whs: 20\n",
      "at index: 59 (of 288)  diag_size: 400 whs: 20\n",
      "at index: 60 (of 288)  diag_size: 400 whs: 20\n",
      "at index: 61 (of 288)  diag_size: 400 whs: 20\n",
      "at index: 62 (of 288)  diag_size: 400 whs: 20\n",
      "at index: 63 (of 288)  diag_size: 400 whs: 20\n",
      "at index: 64 (of 288)  diag_size: 400 whs: 20\n",
      "at index: 65 (of 288)  diag_size: 400 whs: 20\n",
      "at index: 66 (of 288)  diag_size: 400 whs: 20\n",
      "at index: 67 (of 288)  diag_size: 400 whs: 20\n",
      "at index: 68 (of 288)  diag_size: 400 whs: 20\n",
      "at index: 69 (of 288)  diag_size: 400 whs: 20\n",
      "at index: 70 (of 288)  diag_size: 400 whs: 20\n",
      "at index: 71 (of 288)  diag_size: 400 whs: 20\n",
      "at index: 72 (of 288)  diag_size: 400 whs: 20\n",
      "at index: 73 (of 288)  diag_size: 400 whs: 20\n",
      "at index: 74 (of 288)  diag_size: 400 whs: 20\n",
      "at index: 75 (of 288)  diag_size: 400 whs: 20\n",
      "at index: 76 (of 288)  diag_size: 400 whs: 20\n",
      "at index: 77 (of 288)  diag_size: 400 whs: 20\n",
      "at index: 78 (of 288)  diag_size: 400 whs: 20\n",
      "at index: 79 (of 288)  diag_size: 400 whs: 20\n",
      "at index: 80 (of 288)  diag_size: 400 whs: 20\n",
      "at index: 81 (of 288)  diag_size: 400 whs: 20\n",
      "at index: 82 (of 288)  diag_size: 400 whs: 20\n",
      "at index: 83 (of 288)  diag_size: 400 whs: 20\n",
      "at index: 84 (of 288)  diag_size: 400 whs: 20\n",
      "at index: 85 (of 288)  diag_size: 400 whs: 20\n",
      "at index: 86 (of 288)  diag_size: 400 whs: 20\n",
      "at index: 87 (of 288)  diag_size: 400 whs: 20\n",
      "at index: 88 (of 288)  diag_size: 400 whs: 20\n",
      "at index: 89 (of 288)  diag_size: 400 whs: 20\n",
      "at index: 90 (of 288)  diag_size: 400 whs: 20\n",
      "at index: 91 (of 288)  diag_size: 400 whs: 20\n",
      "at index: 92 (of 288)  diag_size: 400 whs: 20\n",
      "at index: 93 (of 288)  diag_size: 400 whs: 20\n",
      "at index: 94 (of 288)  diag_size: 400 whs: 20\n",
      "at index: 95 (of 288)  diag_size: 400 whs: 20\n",
      "at index: 96 (of 288)  diag_size: 400 whs: 20\n",
      "at index: 97 (of 288)  diag_size: 550 whs: 20\n",
      "at index: 98 (of 288)  diag_size: 550 whs: 20\n",
      "at index: 99 (of 288)  diag_size: 550 whs: 20\n",
      "at index: 100 (of 288)  diag_size: 550 whs: 20\n",
      "at index: 101 (of 288)  diag_size: 550 whs: 20\n",
      "at index: 102 (of 288)  diag_size: 550 whs: 20\n",
      "at index: 103 (of 288)  diag_size: 550 whs: 20\n",
      "at index: 104 (of 288)  diag_size: 550 whs: 20\n",
      "at index: 105 (of 288)  diag_size: 550 whs: 20\n",
      "at index: 106 (of 288)  diag_size: 550 whs: 20\n",
      "at index: 107 (of 288)  diag_size: 550 whs: 20\n",
      "at index: 108 (of 288)  diag_size: 550 whs: 20\n",
      "at index: 109 (of 288)  diag_size: 550 whs: 20\n",
      "at index: 110 (of 288)  diag_size: 550 whs: 20\n",
      "at index: 111 (of 288)  diag_size: 550 whs: 20\n",
      "at index: 112 (of 288)  diag_size: 550 whs: 20\n",
      "at index: 113 (of 288)  diag_size: 550 whs: 20\n",
      "at index: 114 (of 288)  diag_size: 550 whs: 20\n",
      "at index: 115 (of 288)  diag_size: 550 whs: 20\n",
      "at index: 116 (of 288)  diag_size: 550 whs: 20\n",
      "at index: 117 (of 288)  diag_size: 550 whs: 20\n",
      "at index: 118 (of 288)  diag_size: 550 whs: 20\n",
      "at index: 119 (of 288)  diag_size: 550 whs: 20\n",
      "at index: 120 (of 288)  diag_size: 550 whs: 20\n",
      "at index: 121 (of 288)  diag_size: 550 whs: 20\n",
      "at index: 122 (of 288)  diag_size: 550 whs: 20\n",
      "at index: 123 (of 288)  diag_size: 550 whs: 20\n",
      "at index: 124 (of 288)  diag_size: 550 whs: 20\n",
      "at index: 125 (of 288)  diag_size: 550 whs: 20\n",
      "at index: 126 (of 288)  diag_size: 550 whs: 20\n",
      "at index: 127 (of 288)  diag_size: 550 whs: 20\n",
      "at index: 128 (of 288)  diag_size: 550 whs: 20\n",
      "at index: 129 (of 288)  diag_size: 550 whs: 20\n",
      "at index: 130 (of 288)  diag_size: 550 whs: 20\n",
      "at index: 131 (of 288)  diag_size: 550 whs: 20\n",
      "at index: 132 (of 288)  diag_size: 550 whs: 20\n",
      "at index: 133 (of 288)  diag_size: 550 whs: 20\n",
      "at index: 134 (of 288)  diag_size: 550 whs: 20\n",
      "at index: 135 (of 288)  diag_size: 550 whs: 20\n",
      "at index: 136 (of 288)  diag_size: 550 whs: 20\n",
      "at index: 137 (of 288)  diag_size: 550 whs: 20\n",
      "at index: 138 (of 288)  diag_size: 550 whs: 20\n",
      "at index: 139 (of 288)  diag_size: 550 whs: 20\n",
      "at index: 140 (of 288)  diag_size: 550 whs: 20\n",
      "at index: 141 (of 288)  diag_size: 550 whs: 20\n",
      "at index: 142 (of 288)  diag_size: 550 whs: 20\n",
      "at index: 143 (of 288)  diag_size: 550 whs: 20\n",
      "at index: 144 (of 288)  diag_size: 550 whs: 20\n",
      "at index: 145 (of 288)  diag_size: 550 whs: 20\n",
      "at index: 146 (of 288)  diag_size: 550 whs: 20\n",
      "at index: 147 (of 288)  diag_size: 550 whs: 20\n",
      "at index: 148 (of 288)  diag_size: 550 whs: 20\n",
      "at index: 149 (of 288)  diag_size: 550 whs: 20\n",
      "at index: 150 (of 288)  diag_size: 550 whs: 20\n",
      "at index: 151 (of 288)  diag_size: 550 whs: 20\n",
      "at index: 152 (of 288)  diag_size: 550 whs: 20\n",
      "at index: 153 (of 288)  diag_size: 550 whs: 20\n",
      "at index: 154 (of 288)  diag_size: 550 whs: 20\n",
      "at index: 155 (of 288)  diag_size: 550 whs: 20\n",
      "at index: 156 (of 288)  diag_size: 550 whs: 20\n",
      "at index: 157 (of 288)  diag_size: 550 whs: 20\n",
      "at index: 158 (of 288)  diag_size: 550 whs: 20\n",
      "at index: 159 (of 288)  diag_size: 550 whs: 20\n",
      "at index: 160 (of 288)  diag_size: 550 whs: 20\n",
      "at index: 161 (of 288)  diag_size: 550 whs: 20\n",
      "at index: 162 (of 288)  diag_size: 550 whs: 20\n",
      "at index: 163 (of 288)  diag_size: 550 whs: 20\n",
      "at index: 164 (of 288)  diag_size: 550 whs: 20\n",
      "at index: 165 (of 288)  diag_size: 550 whs: 20\n",
      "at index: 166 (of 288)  diag_size: 550 whs: 20\n",
      "at index: 167 (of 288)  diag_size: 550 whs: 20\n",
      "at index: 168 (of 288)  diag_size: 550 whs: 20\n",
      "at index: 169 (of 288)  diag_size: 550 whs: 20\n",
      "at index: 170 (of 288)  diag_size: 550 whs: 20\n",
      "at index: 171 (of 288)  diag_size: 550 whs: 20\n",
      "at index: 172 (of 288)  diag_size: 550 whs: 20\n",
      "at index: 173 (of 288)  diag_size: 550 whs: 20\n",
      "at index: 174 (of 288)  diag_size: 550 whs: 20\n",
      "at index: 175 (of 288)  diag_size: 550 whs: 20\n",
      "at index: 176 (of 288)  diag_size: 550 whs: 20\n",
      "at index: 177 (of 288)  diag_size: 550 whs: 20\n"
     ]
    },
    {
     "name": "stdout",
     "output_type": "stream",
     "text": [
      "at index: 178 (of 288)  diag_size: 550 whs: 20\n",
      "at index: 179 (of 288)  diag_size: 550 whs: 20\n",
      "at index: 180 (of 288)  diag_size: 550 whs: 20\n",
      "at index: 181 (of 288)  diag_size: 550 whs: 20\n",
      "at index: 182 (of 288)  diag_size: 550 whs: 20\n",
      "at index: 183 (of 288)  diag_size: 550 whs: 20\n",
      "at index: 184 (of 288)  diag_size: 550 whs: 20\n",
      "at index: 185 (of 288)  diag_size: 550 whs: 20\n",
      "at index: 186 (of 288)  diag_size: 550 whs: 20\n",
      "at index: 187 (of 288)  diag_size: 550 whs: 20\n",
      "at index: 188 (of 288)  diag_size: 550 whs: 20\n",
      "at index: 189 (of 288)  diag_size: 550 whs: 20\n",
      "at index: 190 (of 288)  diag_size: 550 whs: 20\n",
      "at index: 191 (of 288)  diag_size: 550 whs: 20\n",
      "at index: 192 (of 288)  diag_size: 550 whs: 20\n",
      "at index: 193 (of 288)  diag_size: 700 whs: 20\n",
      "at index: 194 (of 288)  diag_size: 700 whs: 20\n",
      "at index: 195 (of 288)  diag_size: 700 whs: 20\n",
      "at index: 196 (of 288)  diag_size: 700 whs: 20\n",
      "at index: 197 (of 288)  diag_size: 700 whs: 20\n",
      "at index: 198 (of 288)  diag_size: 700 whs: 20\n",
      "at index: 199 (of 288)  diag_size: 700 whs: 20\n",
      "at index: 200 (of 288)  diag_size: 700 whs: 20\n",
      "at index: 201 (of 288)  diag_size: 700 whs: 20\n",
      "at index: 202 (of 288)  diag_size: 700 whs: 20\n",
      "at index: 203 (of 288)  diag_size: 700 whs: 20\n",
      "at index: 204 (of 288)  diag_size: 700 whs: 20\n",
      "at index: 205 (of 288)  diag_size: 700 whs: 20\n",
      "at index: 206 (of 288)  diag_size: 700 whs: 20\n",
      "at index: 207 (of 288)  diag_size: 700 whs: 20\n",
      "at index: 208 (of 288)  diag_size: 700 whs: 20\n",
      "at index: 209 (of 288)  diag_size: 700 whs: 20\n",
      "at index: 210 (of 288)  diag_size: 700 whs: 20\n",
      "at index: 211 (of 288)  diag_size: 700 whs: 20\n",
      "at index: 212 (of 288)  diag_size: 700 whs: 20\n",
      "at index: 213 (of 288)  diag_size: 700 whs: 20\n",
      "at index: 214 (of 288)  diag_size: 700 whs: 20\n",
      "at index: 215 (of 288)  diag_size: 700 whs: 20\n",
      "at index: 216 (of 288)  diag_size: 700 whs: 20\n",
      "at index: 217 (of 288)  diag_size: 700 whs: 20\n",
      "at index: 218 (of 288)  diag_size: 700 whs: 20\n",
      "at index: 219 (of 288)  diag_size: 700 whs: 20\n",
      "at index: 220 (of 288)  diag_size: 700 whs: 20\n",
      "at index: 221 (of 288)  diag_size: 700 whs: 20\n",
      "at index: 222 (of 288)  diag_size: 700 whs: 20\n",
      "at index: 223 (of 288)  diag_size: 700 whs: 20\n",
      "at index: 224 (of 288)  diag_size: 700 whs: 20\n",
      "at index: 225 (of 288)  diag_size: 700 whs: 20\n",
      "at index: 226 (of 288)  diag_size: 700 whs: 20\n",
      "at index: 227 (of 288)  diag_size: 700 whs: 20\n",
      "at index: 228 (of 288)  diag_size: 700 whs: 20\n",
      "at index: 229 (of 288)  diag_size: 700 whs: 20\n",
      "at index: 230 (of 288)  diag_size: 700 whs: 20\n",
      "at index: 231 (of 288)  diag_size: 700 whs: 20\n",
      "at index: 232 (of 288)  diag_size: 700 whs: 20\n",
      "at index: 233 (of 288)  diag_size: 700 whs: 20\n",
      "at index: 234 (of 288)  diag_size: 700 whs: 20\n",
      "at index: 235 (of 288)  diag_size: 700 whs: 20\n",
      "at index: 236 (of 288)  diag_size: 700 whs: 20\n",
      "at index: 237 (of 288)  diag_size: 700 whs: 20\n",
      "at index: 238 (of 288)  diag_size: 700 whs: 20\n",
      "at index: 239 (of 288)  diag_size: 700 whs: 20\n",
      "at index: 240 (of 288)  diag_size: 700 whs: 20\n",
      "at index: 241 (of 288)  diag_size: 700 whs: 20\n",
      "at index: 242 (of 288)  diag_size: 700 whs: 20\n",
      "at index: 243 (of 288)  diag_size: 700 whs: 20\n",
      "at index: 244 (of 288)  diag_size: 700 whs: 20\n",
      "at index: 245 (of 288)  diag_size: 700 whs: 20\n",
      "at index: 246 (of 288)  diag_size: 700 whs: 20\n",
      "at index: 247 (of 288)  diag_size: 700 whs: 20\n",
      "at index: 248 (of 288)  diag_size: 700 whs: 20\n",
      "at index: 249 (of 288)  diag_size: 700 whs: 20\n",
      "at index: 250 (of 288)  diag_size: 700 whs: 20\n",
      "at index: 251 (of 288)  diag_size: 700 whs: 20\n",
      "at index: 252 (of 288)  diag_size: 700 whs: 20\n",
      "at index: 253 (of 288)  diag_size: 700 whs: 20\n",
      "at index: 254 (of 288)  diag_size: 700 whs: 20\n",
      "at index: 255 (of 288)  diag_size: 700 whs: 20\n",
      "at index: 256 (of 288)  diag_size: 700 whs: 20\n",
      "at index: 257 (of 288)  diag_size: 700 whs: 20\n",
      "at index: 258 (of 288)  diag_size: 700 whs: 20\n",
      "at index: 259 (of 288)  diag_size: 700 whs: 20\n",
      "at index: 260 (of 288)  diag_size: 700 whs: 20\n",
      "at index: 261 (of 288)  diag_size: 700 whs: 20\n",
      "at index: 262 (of 288)  diag_size: 700 whs: 20\n",
      "at index: 263 (of 288)  diag_size: 700 whs: 20\n",
      "at index: 264 (of 288)  diag_size: 700 whs: 20\n",
      "at index: 265 (of 288)  diag_size: 700 whs: 20\n",
      "at index: 266 (of 288)  diag_size: 700 whs: 20\n",
      "at index: 267 (of 288)  diag_size: 700 whs: 20\n",
      "at index: 268 (of 288)  diag_size: 700 whs: 20\n",
      "at index: 269 (of 288)  diag_size: 700 whs: 20\n",
      "at index: 270 (of 288)  diag_size: 700 whs: 20\n",
      "at index: 271 (of 288)  diag_size: 700 whs: 20\n",
      "at index: 272 (of 288)  diag_size: 700 whs: 20\n",
      "at index: 273 (of 288)  diag_size: 700 whs: 20\n",
      "at index: 274 (of 288)  diag_size: 700 whs: 20\n",
      "at index: 275 (of 288)  diag_size: 700 whs: 20\n",
      "at index: 276 (of 288)  diag_size: 700 whs: 20\n",
      "at index: 277 (of 288)  diag_size: 700 whs: 20\n",
      "at index: 278 (of 288)  diag_size: 700 whs: 20\n",
      "at index: 279 (of 288)  diag_size: 700 whs: 20\n",
      "at index: 280 (of 288)  diag_size: 700 whs: 20\n",
      "at index: 281 (of 288)  diag_size: 700 whs: 20\n",
      "at index: 282 (of 288)  diag_size: 700 whs: 20\n",
      "at index: 283 (of 288)  diag_size: 700 whs: 20\n",
      "at index: 284 (of 288)  diag_size: 700 whs: 20\n",
      "at index: 285 (of 288)  diag_size: 700 whs: 20\n",
      "at index: 286 (of 288)  diag_size: 700 whs: 20\n",
      "at index: 287 (of 288)  diag_size: 700 whs: 20\n",
      "at index: 288 (of 288)  diag_size: 700 whs: 20\n"
     ]
    }
   ],
   "source": [
    "let index = 0\n",
    "    for diag_size in diag_sizes\n",
    "        for whs in window_half_sizes\n",
    "            for point_count in point_counts, spacing in spacings\n",
    "                timer = TimerOutput(\"reg alg: sp lap\")\n",
    "                results_dicts = Array{Dict}(undef, img_count)\n",
    "                inds_array = Array{Array{Any}}(undef, img_count)\n",
    "\n",
    "                for k in 1:img_count\n",
    "                    img = resize_to_diag_size(imgs[k], diag_size)\n",
    "                    whs_limited = round(Int, min(whs, min(size(img)...)/4))\n",
    "                    rand_flow = gen_uniform_flow(size(img), 1 + 1im, whs_limited)\n",
    "                    imgw = warp_img(img, real(rand_flow), imag(rand_flow))\n",
    "                    try\n",
    "                        # run registration function\n",
    "                        _, _, timer, results_dicts[k], (_, inds_array[k]) = test_registration_alg(sparse_lap,\n",
    "                            img, imgw, rand_flow, [whs_limited], Dict(:timer => timer, :point_count =>\n",
    "                                point_count, :spacing => spacing), timer=timer, display=false)\n",
    "                    catch e\n",
    "                        println(e)\n",
    "                        push!(errors, [e, img, imgw, rand_flow, whs_limited])\n",
    "                        continue\n",
    "                    end\n",
    "                end\n",
    "                # if no data gathered:\n",
    "                if any(x-> 0 .== x, length.([results_dicts, inds_array]))\n",
    "                    println(\"SKIPPED: diag_size:\", diag_size, \" whs: \", whs)\n",
    "                    continue\n",
    "                end\n",
    "\n",
    "                median_results = fun_on_dict_values(filter_defined(results_dicts), median)\n",
    "                avg_points_found = LAP_julia.mean(map(x -> length(x), filter_defined(inds_array)))\n",
    "\n",
    "                index = index + 1\n",
    "                println(\"at index: \", index, \" (of $total_iterations) \", \" diag_size: \", diag_size, \" whs: \", whs)\n",
    "                push!(df, Dict(:index => index,\n",
    "                               :diag_size => diag_size,\n",
    "                               :whs => whs,\n",
    "                               :timer => timer,\n",
    "                               :median_results => median_results,\n",
    "                               :point_count => point_count,\n",
    "                               :spacing => spacing,\n",
    "                               :points_found => avg_points_found\n",
    "                               ))\n",
    "            end # point_count in point_counts, spacing in spacings\n",
    "        end\n",
    "    end\n",
    "end"
   ]
  },
  {
   "cell_type": "code",
   "execution_count": 56,
   "metadata": {},
   "outputs": [],
   "source": [
    "# save df\n",
    "@save \"df_point_count_save.jld2\" df"
   ]
  },
  {
   "cell_type": "code",
   "execution_count": 45,
   "metadata": {},
   "outputs": [
    {
     "data": {
      "text/plain": [
       "1-element Array{Symbol,1}:\n",
       " :df"
      ]
     },
     "execution_count": 45,
     "metadata": {},
     "output_type": "execute_result"
    }
   ],
   "source": [
    "# load df\n",
    "@load \"df_point_count_save.jld2\" df"
   ]
  },
  {
   "cell_type": "markdown",
   "metadata": {},
   "source": [
    "## Visualise results"
   ]
  },
  {
   "cell_type": "code",
   "execution_count": 31,
   "metadata": {},
   "outputs": [
    {
     "data": {
      "text/plain": [
       "8-element Array{TimerOutput,1}:\n",
       " \u001b[0m\u001b[1m ──────────────────────────────────────────────────────────────────────────────\u001b[22m\n",
       "\u001b[0m\u001b[1m                               \u001b[22m        Time                   Allocations      \n",
       "                               ──────────────────────   ───────────────────────\n",
       "       Tot / % measured:           16357s / 0.01%            632GiB / 0.03%    \n",
       "\n",
       " Section               ncalls     time   %tot     avg     alloc   %tot      avg\n",
       " ──────────────────────────────────────────────────────────────────────────────\n",
       " reg alg: sp lap            5    1.52s   100%   304ms    174MiB  100%   34.8MiB\n",
       "   sparse lap               5    1.29s  85.2%   259ms    115MiB  66.1%  23.0MiB\n",
       "     multi mat div          5    582ms  38.3%   116ms   16.9MiB  9.73%  3.39MiB\n",
       "     filtering              5    566ms  37.3%   113ms   60.2MiB  34.6%  12.0MiB\n",
       "     prepare A and b        5   68.5ms  4.51%  13.7ms   30.1MiB  17.3%  6.02MiB\n",
       "       window sum p...     15   43.0ms  2.83%  2.87ms   18.1MiB  10.4%  1.20MiB\n",
       "       window sum p...     10   25.4ms  1.67%  2.54ms   12.0MiB  6.91%  1.20MiB\n",
       "     calculate flow         5   14.5μs  0.00%  2.90μs   9.69KiB  0.01%  1.94KiB\n",
       "   generate source_reg      5   93.4ms  6.15%  18.7ms   30.1MiB  17.3%  6.01MiB\n",
       "   find edge points         5   91.3ms  6.01%  18.3ms   20.9MiB  12.0%  4.18MiB\n",
       "   interpolate flow         5   7.57ms  0.50%  1.51ms   7.99MiB  4.59%  1.60MiB\n",
       "\u001b[0m\u001b[1m ──────────────────────────────────────────────────────────────────────────────\u001b[22m\n",
       " \u001b[0m\u001b[1m ──────────────────────────────────────────────────────────────────────────────\u001b[22m\n",
       "\u001b[0m\u001b[1m                               \u001b[22m        Time                   Allocations      \n",
       "                               ──────────────────────   ───────────────────────\n",
       "       Tot / % measured:           16315s / 0.00%            608GiB / 0.04%    \n",
       "\n",
       " Section               ncalls     time   %tot     avg     alloc   %tot      avg\n",
       " ──────────────────────────────────────────────────────────────────────────────\n",
       " reg alg: sp lap            5    726ms   100%   145ms    225MiB  100%   45.1MiB\n",
       "   sparse lap               5    557ms  76.7%   111ms    166MiB  73.7%  33.2MiB\n",
       "     multi mat div          5    318ms  43.8%  63.5ms   67.8MiB  30.1%  13.6MiB\n",
       "     filtering              5    206ms  28.4%  41.2ms   60.2MiB  26.7%  12.0MiB\n",
       "     prepare A and b        5   28.3ms  3.89%  5.66ms   30.1MiB  13.4%  6.02MiB\n",
       "       window sum p...     15   17.2ms  2.36%  1.14ms   18.1MiB  8.02%  1.20MiB\n",
       "       window sum p...     10   11.1ms  1.52%  1.11ms   12.0MiB  5.34%  1.20MiB\n",
       "     calculate flow         5   31.8μs  0.00%  6.35μs   33.4KiB  0.01%  6.69KiB\n",
       "   generate source_reg      5   97.9ms  13.5%  19.6ms   30.1MiB  13.3%  6.01MiB\n",
       "   find edge points         5   58.8ms  8.09%  11.8ms   21.0MiB  9.30%  4.19MiB\n",
       "   interpolate flow         5   11.0ms  1.52%  2.20ms   8.24MiB  3.66%  1.65MiB\n",
       "\u001b[0m\u001b[1m ──────────────────────────────────────────────────────────────────────────────\u001b[22m\n",
       " \u001b[0m\u001b[1m ──────────────────────────────────────────────────────────────────────────────\u001b[22m\n",
       "\u001b[0m\u001b[1m                               \u001b[22m        Time                   Allocations      \n",
       "                               ──────────────────────   ───────────────────────\n",
       "       Tot / % measured:           16261s / 0.01%            584GiB / 0.05%    \n",
       "\n",
       " Section               ncalls     time   %tot     avg     alloc   %tot      avg\n",
       " ──────────────────────────────────────────────────────────────────────────────\n",
       " reg alg: sp lap            5    2.02s   100%   404ms    277MiB  100%   55.3MiB\n",
       "   sparse lap               5    1.55s  76.5%   309ms    217MiB  78.5%  43.4MiB\n",
       "     multi mat div          5    795ms  39.4%   159ms    119MiB  42.9%  23.7MiB\n",
       "     filtering              5    644ms  31.9%   129ms   60.2MiB  21.8%  12.0MiB\n",
       "     prepare A and b        5   98.0ms  4.85%  19.6ms   30.1MiB  10.9%  6.02MiB\n",
       "       window sum p...     15   56.4ms  2.79%  3.76ms   18.1MiB  6.54%  1.21MiB\n",
       "       window sum p...     10   41.5ms  2.05%  4.15ms   12.0MiB  4.35%  1.20MiB\n",
       "     calculate flow         5   3.46ms  0.17%   692μs   57.2KiB  0.02%  11.4KiB\n",
       "   find edge points         5    281ms  13.9%  56.1ms   21.0MiB  7.59%  4.20MiB\n",
       "   generate source_reg      5    160ms  7.91%  32.0ms   30.1MiB  10.9%  6.01MiB\n",
       "   interpolate flow         5   29.1ms  1.44%  5.82ms   8.48MiB  3.07%  1.70MiB\n",
       "\u001b[0m\u001b[1m ──────────────────────────────────────────────────────────────────────────────\u001b[22m\n",
       " \u001b[0m\u001b[1m ──────────────────────────────────────────────────────────────────────────────\u001b[22m\n",
       "\u001b[0m\u001b[1m                               \u001b[22m        Time                   Allocations      \n",
       "                               ──────────────────────   ───────────────────────\n",
       "       Tot / % measured:           16196s / 0.01%            560GiB / 0.06%    \n",
       "\n",
       " Section               ncalls     time   %tot     avg     alloc   %tot      avg\n",
       " ──────────────────────────────────────────────────────────────────────────────\n",
       " reg alg: sp lap            5    1.78s   100%   355ms    328MiB  100%   65.6MiB\n",
       "   sparse lap               5    1.48s  83.2%   296ms    268MiB  81.7%  53.6MiB\n",
       "     multi mat div          5    1.05s  59.3%   211ms    169MiB  51.7%  33.9MiB\n",
       "     filtering              5    326ms  18.4%  65.2ms   60.2MiB  18.4%  12.0MiB\n",
       "     prepare A and b        5   83.6ms  4.71%  16.7ms   30.1MiB  9.20%  6.03MiB\n",
       "       window sum p...     15   55.2ms  3.11%  3.68ms   18.1MiB  5.52%  1.21MiB\n",
       "       window sum p...     10   28.3ms  1.59%  2.83ms   12.0MiB  3.67%  1.20MiB\n",
       "     calculate flow         5   2.46ms  0.14%   491μs   80.3KiB  0.02%  16.1KiB\n",
       "   find edge points         5    148ms  8.31%  29.5ms   21.0MiB  6.41%  4.20MiB\n",
       "   generate source_reg      5   96.7ms  5.44%  19.3ms   30.1MiB  9.17%  6.01MiB\n",
       "   interpolate flow         5   51.5ms  2.90%  10.3ms   8.72MiB  2.66%  1.74MiB\n",
       "\u001b[0m\u001b[1m ──────────────────────────────────────────────────────────────────────────────\u001b[22m\n",
       " \u001b[0m\u001b[1m ──────────────────────────────────────────────────────────────────────────────\u001b[22m\n",
       "\u001b[0m\u001b[1m                               \u001b[22m        Time                   Allocations      \n",
       "                               ──────────────────────   ───────────────────────\n",
       "       Tot / % measured:           16141s / 0.01%            536GiB / 0.07%    \n",
       "\n",
       " Section               ncalls     time   %tot     avg     alloc   %tot      avg\n",
       " ──────────────────────────────────────────────────────────────────────────────\n",
       " reg alg: sp lap            5    1.25s   100%   250ms    379MiB  100%   75.8MiB\n",
       "   sparse lap               5    939ms  75.1%   188ms    319MiB  84.1%  63.8MiB\n",
       "     multi mat div          5    553ms  44.2%   111ms    220MiB  58.1%  44.0MiB\n",
       "     filtering              5    332ms  26.6%  66.4ms   60.2MiB  15.9%  12.0MiB\n",
       "     prepare A and b        5   43.2ms  3.46%  8.65ms   30.2MiB  7.96%  6.03MiB\n",
       "       window sum p...     15   29.9ms  2.39%  1.99ms   18.1MiB  4.78%  1.21MiB\n",
       "       window sum p...     10   13.2ms  1.06%  1.32ms   12.0MiB  3.17%  1.20MiB\n",
       "     calculate flow         5   1.31ms  0.10%   261μs    104KiB  0.03%  20.8KiB\n",
       "   find edge points         5    170ms  13.6%  34.0ms   21.0MiB  5.55%  4.21MiB\n",
       "   generate source_reg      5   81.5ms  6.52%  16.3ms   30.1MiB  7.93%  6.01MiB\n",
       "   interpolate flow         5   57.9ms  4.63%  11.6ms   8.95MiB  2.36%  1.79MiB\n",
       "\u001b[0m\u001b[1m ──────────────────────────────────────────────────────────────────────────────\u001b[22m\n",
       " \u001b[0m\u001b[1m ──────────────────────────────────────────────────────────────────────────────\u001b[22m\n",
       "\u001b[0m\u001b[1m                               \u001b[22m        Time                   Allocations      \n",
       "                               ──────────────────────   ───────────────────────\n",
       "       Tot / % measured:           16080s / 0.01%            511GiB / 0.08%    \n",
       "\n",
       " Section               ncalls     time   %tot     avg     alloc   %tot      avg\n",
       " ──────────────────────────────────────────────────────────────────────────────\n",
       " reg alg: sp lap            5    1.35s   100%   270ms    428MiB  100%   85.6MiB\n",
       "   sparse lap               5    1.07s  79.1%   213ms    368MiB  85.9%  73.5MiB\n",
       "     multi mat div          5    620ms  45.9%   124ms    269MiB  62.8%  53.8MiB\n",
       "     filtering              5    350ms  26.0%  70.1ms   60.2MiB  14.1%  12.0MiB\n",
       "     prepare A and b        5   77.2ms  5.72%  15.4ms   30.2MiB  7.05%  6.03MiB\n",
       "       window sum p...     15   44.2ms  3.28%  2.95ms   18.1MiB  4.24%  1.21MiB\n",
       "       window sum p...     10   32.9ms  2.44%  3.29ms   12.0MiB  2.81%  1.20MiB\n",
       "     calculate flow         5   5.63ms  0.42%  1.13ms    126KiB  0.03%  25.3KiB\n",
       "   find edge points         5    169ms  12.5%  33.9ms   21.1MiB  4.92%  4.21MiB\n",
       "   generate source_reg      5   72.5ms  5.37%  14.5ms   30.1MiB  7.02%  6.01MiB\n",
       "   interpolate flow         5   38.8ms  2.88%  7.77ms   9.16MiB  2.14%  1.83MiB\n",
       "\u001b[0m\u001b[1m ──────────────────────────────────────────────────────────────────────────────\u001b[22m\n",
       " \u001b[0m\u001b[1m ──────────────────────────────────────────────────────────────────────────────\u001b[22m\n",
       "\u001b[0m\u001b[1m                               \u001b[22m        Time                   Allocations      \n",
       "                               ──────────────────────   ───────────────────────\n",
       "       Tot / % measured:           16031s / 0.01%            487GiB / 0.10%    \n",
       "\n",
       " Section               ncalls     time   %tot     avg     alloc   %tot      avg\n",
       " ──────────────────────────────────────────────────────────────────────────────\n",
       " reg alg: sp lap            5    1.29s   100%   258ms    495MiB  100%   99.0MiB\n",
       "   sparse lap               5    910ms  70.5%   182ms    434MiB  87.7%  86.9MiB\n",
       "     multi mat div          5    499ms  38.7%   100ms    335MiB  67.7%  67.1MiB\n",
       "     filtering              5    320ms  24.8%  63.9ms   60.2MiB  12.2%  12.0MiB\n",
       "     prepare A and b        5   66.1ms  5.12%  13.2ms   30.2MiB  6.10%  6.04MiB\n",
       "       window sum p...     15   47.3ms  3.67%  3.16ms   18.2MiB  3.67%  1.21MiB\n",
       "       window sum p...     10   18.7ms  1.45%  1.87ms   12.0MiB  2.43%  1.20MiB\n",
       "     calculate flow         5   11.2ms  0.87%  2.24ms    157KiB  0.03%  31.3KiB\n",
       "   find edge points         5    275ms  21.3%  55.0ms   21.1MiB  4.26%  4.22MiB\n",
       "   generate source_reg      5   73.8ms  5.72%  14.8ms   30.1MiB  6.07%  6.01MiB\n",
       "   interpolate flow         5   28.7ms  2.23%  5.74ms   9.49MiB  1.92%  1.90MiB\n",
       "\u001b[0m\u001b[1m ──────────────────────────────────────────────────────────────────────────────\u001b[22m\n",
       " \u001b[0m\u001b[1m ──────────────────────────────────────────────────────────────────────────────\u001b[22m\n",
       "\u001b[0m\u001b[1m                               \u001b[22m        Time                   Allocations      \n",
       "                               ──────────────────────   ───────────────────────\n",
       "       Tot / % measured:           15983s / 0.01%            463GiB / 0.12%    \n",
       "\n",
       " Section               ncalls     time   %tot     avg     alloc   %tot      avg\n",
       " ──────────────────────────────────────────────────────────────────────────────\n",
       " reg alg: sp lap            5    1.98s   100%   396ms    552MiB  100%    110MiB\n",
       "   sparse lap               5    1.60s  80.8%   320ms    491MiB  88.9%  98.2MiB\n",
       "     multi mat div          5    896ms  45.3%   179ms    392MiB  71.0%  78.4MiB\n",
       "     filtering              5    612ms  30.9%   122ms   60.2MiB  10.9%  12.0MiB\n",
       "     prepare A and b        5   72.3ms  3.65%  14.5ms   30.2MiB  5.47%  6.04MiB\n",
       "       window sum p...     15   42.1ms  2.13%  2.81ms   18.2MiB  3.29%  1.21MiB\n",
       "       window sum p...     10   30.0ms  1.52%  3.00ms   12.0MiB  2.18%  1.20MiB\n",
       "     calculate flow         5   12.1ms  0.61%  2.43ms    183KiB  0.03%  36.6KiB\n",
       "   find edge points         5    274ms  13.8%  54.8ms   21.1MiB  3.83%  4.23MiB\n",
       "   generate source_reg      5   81.9ms  4.14%  16.4ms   30.1MiB  5.44%  6.01MiB\n",
       "   interpolate flow         5   19.2ms  0.97%  3.84ms   9.77MiB  1.77%  1.95MiB\n",
       "\u001b[0m\u001b[1m ──────────────────────────────────────────────────────────────────────────────\u001b[22m"
      ]
     },
     "execution_count": 31,
     "metadata": {},
     "output_type": "execute_result"
    }
   ],
   "source": [
    "timers = df[((df.diag_size .== 400) .& (df.spacing .== 5)), :][:, :timer]"
   ]
  },
  {
   "cell_type": "code",
   "execution_count": 55,
   "metadata": {},
   "outputs": [
    {
     "data": {
      "image/png": "[encoded data removed]",
      "text/plain": [
       "Figure(PyObject <Figure size 1000x1000 with 3 Axes>)"
      ]
     },
     "metadata": {},
     "output_type": "display_data"
    },
    {
     "data": {
      "application/vnd.webio.node+json": {
       "children": [
        {
         "children": [
          {
           "children": [
            {
             "children": [
              {
               "children": [
                {
                 "children": [
                  "spacing"
                 ],
                 "instanceArgs": {
                  "namespace": "html",
                  "tag": "label"
                 },
                 "nodeType": "DOM",
                 "props": {
                  "className": "interact ",
                  "style": {
                   "padding": "5px 10px 0px 10px"
                  }
                 },
                 "type": "node"
                }
               ],
               "instanceArgs": {
                "namespace": "html",
                "tag": "div"
               },
               "nodeType": "DOM",
               "props": {
                "className": "interact-flex-row-left"
               },
               "type": "node"
              },
              {
               "children": [
                {
                 "children": [],
                 "instanceArgs": {
                  "namespace": "html",
                  "tag": "input"
                 },
                 "nodeType": "DOM",
                 "props": {
                  "attributes": {
                   "data-bind": "numericValue: index, valueUpdate: 'input', event: {change: function (){this.changes(this.changes()+1)}}",
                   "orient": "horizontal",
                   "type": "range"
                  },
                  "className": "slider slider is-fullwidth",
                  "max": 12,
                  "min": 1,
                  "step": 1,
                  "style": {}
                 },
                 "type": "node"
                }
               ],
               "instanceArgs": {
                "namespace": "html",
                "tag": "div"
               },
               "nodeType": "DOM",
               "props": {
                "className": "interact-flex-row-center"
               },
               "type": "node"
              },
              {
               "children": [
                {
                 "children": [],
                 "instanceArgs": {
                  "namespace": "html",
                  "tag": "p"
                 },
                 "nodeType": "DOM",
                 "props": {
                  "attributes": {
                   "data-bind": "text: formatted_val"
                  }
                 },
                 "type": "node"
                }
               ],
               "instanceArgs": {
                "namespace": "html",
                "tag": "div"
               },
               "nodeType": "DOM",
               "props": {
                "className": "interact-flex-row-right"
               },
               "type": "node"
              }
             ],
             "instanceArgs": {
              "namespace": "html",
              "tag": "div"
             },
             "nodeType": "DOM",
             "props": {
              "className": "interact-flex-row interact-widget"
             },
             "type": "node"
            }
           ],
           "instanceArgs": {
            "handlers": {
             "changes": [
              "(function (val){return (val!=this.model[\"changes\"]()) ? (this.valueFromJulia[\"changes\"]=true, this.model[\"changes\"](val)) : undefined})"
             ],
             "index": [
              "(function (val){return (val!=this.model[\"index\"]()) ? (this.valueFromJulia[\"index\"]=true, this.model[\"index\"](val)) : undefined})"
             ]
            },
            "id": "12123193889604572971",
            "imports": {
             "data": [
              {
               "name": "knockout",
               "type": "js",
               "url": "/assetserver/0f112f7efffefaafa832f0e672aac8a9007f917a-knockout.js"
              },
              {
               "name": "knockout_punches",
               "type": "js",
               "url": "/assetserver/926856c4c3c3729a85ede67ba1695ec242bcdb90-knockout_punches.js"
              },
              {
               "name": null,
               "type": "js",
               "url": "/assetserver/22aab7b5b716992770811f61cc7d039a8e421c0c-all.js"
              },
              {
               "name": null,
               "type": "css",
               "url": "/assetserver/fa2369b3f8c308992652fe8b83cbdeffe61d40e6-style.css"
              },
              {
               "name": null,
               "type": "css",
               "url": "/assetserver/e941e75aaad53ecec4da3e7dc8e6de377ff42ace-bulma_confined.min.css"
              }
             ],
             "type": "async_block"
            },
            "mount_callbacks": [
             "function () {\n    var handler = (function (ko, koPunches) {\n    ko.punches.enableAll();\n    ko.bindingHandlers.numericValue = {\n        init: function(element, valueAccessor, allBindings, data, context) {\n            var stringified = ko.observable(ko.unwrap(valueAccessor()));\n            stringified.subscribe(function(value) {\n                var val = parseFloat(value);\n                if (!isNaN(val)) {\n                    valueAccessor()(val);\n                }\n            });\n            valueAccessor().subscribe(function(value) {\n                var str = JSON.stringify(value);\n                if ((str == \"0\") && ([\"-0\", \"-0.\"].indexOf(stringified()) >= 0))\n                     return;\n                 if ([\"null\", \"\"].indexOf(str) >= 0)\n                     return;\n                stringified(str);\n            });\n            ko.applyBindingsToNode(\n                element,\n                {\n                    value: stringified,\n                    valueUpdate: allBindings.get('valueUpdate'),\n                },\n                context,\n            );\n        }\n    };\n    var json_data = {\"formatted_vals\":[\"1\",\"2\",\"3\",\"4\",\"5\",\"6\",\"7\",\"8\",\"9\",\"10\",\"11\",\"12\"],\"changes\":WebIO.getval({\"name\":\"changes\",\"scope\":\"12123193889604572971\",\"id\":\"ob_26\",\"type\":\"observable\"}),\"index\":WebIO.getval({\"name\":\"index\",\"scope\":\"12123193889604572971\",\"id\":\"ob_25\",\"type\":\"observable\"})};\n    var self = this;\n    function AppViewModel() {\n        for (var key in json_data) {\n            var el = json_data[key];\n            this[key] = Array.isArray(el) ? ko.observableArray(el) : ko.observable(el);\n        }\n        \n        [this[\"formatted_val\"]=ko.computed(    function(){\n        return this.formatted_vals()[parseInt(this.index())-(1)];\n    }\n,this)]\n        [this[\"changes\"].subscribe((function (val){!(this.valueFromJulia[\"changes\"]) ? (WebIO.setval({\"name\":\"changes\",\"scope\":\"12123193889604572971\",\"id\":\"ob_26\",\"type\":\"observable\"},val)) : undefined; return this.valueFromJulia[\"changes\"]=false}),self),this[\"index\"].subscribe((function (val){!(this.valueFromJulia[\"index\"]) ? (WebIO.setval({\"name\":\"index\",\"scope\":\"12123193889604572971\",\"id\":\"ob_25\",\"type\":\"observable\"},val)) : undefined; return this.valueFromJulia[\"index\"]=false}),self)]\n        \n    }\n    self.model = new AppViewModel();\n    self.valueFromJulia = {};\n    for (var key in json_data) {\n        self.valueFromJulia[key] = false;\n    }\n    ko.applyBindings(self.model, self.dom);\n}\n);\n    (WebIO.importBlock({\"data\":[{\"name\":\"knockout\",\"type\":\"js\",\"url\":\"/assetserver/0f112f7efffefaafa832f0e672aac8a9007f917a-knockout.js\"},{\"name\":\"knockout_punches\",\"type\":\"js\",\"url\":\"/assetserver/926856c4c3c3729a85ede67ba1695ec242bcdb90-knockout_punches.js\"}],\"type\":\"async_block\"})).then((imports) => handler.apply(this, imports));\n}\n"
            ],
            "observables": {
             "changes": {
              "id": "ob_26",
              "sync": false,
              "value": 0
             },
             "index": {
              "id": "ob_25",
              "sync": true,
              "value": 1
             }
            },
            "systemjs_options": null
           },
           "nodeType": "Scope",
           "props": {},
           "type": "node"
          }
         ],
         "instanceArgs": {
          "namespace": "html",
          "tag": "div"
         },
         "nodeType": "DOM",
         "props": {
          "className": "field interact-widget"
         },
         "type": "node"
        },
        {
         "children": [
          {
           "children": [],
           "instanceArgs": {
            "id": "ob_34",
            "name": "obs-node"
           },
           "nodeType": "ObservableNode",
           "props": {},
           "type": "node"
          }
         ],
         "instanceArgs": {
          "handlers": {},
          "id": "6099405290653190263",
          "imports": {
           "data": [],
           "type": "async_block"
          },
          "mount_callbacks": [],
          "observables": {
           "obs-node": {
            "id": "ob_34",
            "sync": false,
            "value": {
             "children": [
              ""
             ],
             "instanceArgs": {
              "namespace": "html",
              "tag": "div"
             },
             "nodeType": "DOM",
             "props": {
              "className": "interact-flex-row interact-widget"
             },
             "type": "node"
            }
           }
          },
          "systemjs_options": null
         },
         "nodeType": "Scope",
         "props": {},
         "type": "node"
        }
       ],
       "instanceArgs": {
        "namespace": "html",
        "tag": "div"
       },
       "nodeType": "DOM",
       "props": {},
       "type": "node"
      },
      "text/html": [
       "<div\n",
       "    class=\"webio-mountpoint\"\n",
       "    data-webio-mountpoint=\"12464981466963711801\"\n",
       ">\n",
       "    <script>\n",
       "    if (window.require && require.defined && require.defined(\"nbextensions/webio-jupyter-notebook\")) {\n",
       "        console.log(\"Jupyter WebIO extension detected, not mounting.\");\n",
       "    } else if (window.WebIO) {\n",
       "        WebIO.mount(\n",
       "            document.querySelector('[data-webio-mountpoint=\"12464981466963711801\"]'),\n",
       "            {\"props\":{},\"nodeType\":\"DOM\",\"type\":\"node\",\"instanceArgs\":{\"namespace\":\"html\",\"tag\":\"div\"},\"children\":[{\"props\":{\"className\":\"field interact-widget\"},\"nodeType\":\"DOM\",\"type\":\"node\",\"instanceArgs\":{\"namespace\":\"html\",\"tag\":\"div\"},\"children\":[{\"props\":{},\"nodeType\":\"Scope\",\"type\":\"node\",\"instanceArgs\":{\"imports\":{\"data\":[{\"name\":\"knockout\",\"type\":\"js\",\"url\":\"\\/assetserver\\/0f112f7efffefaafa832f0e672aac8a9007f917a-knockout.js\"},{\"name\":\"knockout_punches\",\"type\":\"js\",\"url\":\"\\/assetserver\\/926856c4c3c3729a85ede67ba1695ec242bcdb90-knockout_punches.js\"},{\"name\":null,\"type\":\"js\",\"url\":\"\\/assetserver\\/22aab7b5b716992770811f61cc7d039a8e421c0c-all.js\"},{\"name\":null,\"type\":\"css\",\"url\":\"\\/assetserver\\/fa2369b3f8c308992652fe8b83cbdeffe61d40e6-style.css\"},{\"name\":null,\"type\":\"css\",\"url\":\"\\/assetserver\\/e941e75aaad53ecec4da3e7dc8e6de377ff42ace-bulma_confined.min.css\"}],\"type\":\"async_block\"},\"id\":\"12123193889604572971\",\"handlers\":{\"changes\":[\"(function (val){return (val!=this.model[\\\"changes\\\"]()) ? (this.valueFromJulia[\\\"changes\\\"]=true, this.model[\\\"changes\\\"](val)) : undefined})\"],\"index\":[\"(function (val){return (val!=this.model[\\\"index\\\"]()) ? (this.valueFromJulia[\\\"index\\\"]=true, this.model[\\\"index\\\"](val)) : undefined})\"]},\"systemjs_options\":null,\"mount_callbacks\":[\"function () {\\n    var handler = (function (ko, koPunches) {\\n    ko.punches.enableAll();\\n    ko.bindingHandlers.numericValue = {\\n        init: function(element, valueAccessor, allBindings, data, context) {\\n            var stringified = ko.observable(ko.unwrap(valueAccessor()));\\n            stringified.subscribe(function(value) {\\n                var val = parseFloat(value);\\n                if (!isNaN(val)) {\\n                    valueAccessor()(val);\\n                }\\n            });\\n            valueAccessor().subscribe(function(value) {\\n                var str = JSON.stringify(value);\\n                if ((str == \\\"0\\\") && ([\\\"-0\\\", \\\"-0.\\\"].indexOf(stringified()) >= 0))\\n                     return;\\n                 if ([\\\"null\\\", \\\"\\\"].indexOf(str) >= 0)\\n                     return;\\n                stringified(str);\\n            });\\n            ko.applyBindingsToNode(\\n                element,\\n                {\\n                    value: stringified,\\n                    valueUpdate: allBindings.get('valueUpdate'),\\n                },\\n                context,\\n            );\\n        }\\n    };\\n    var json_data = {\\\"formatted_vals\\\":[\\\"1\\\",\\\"2\\\",\\\"3\\\",\\\"4\\\",\\\"5\\\",\\\"6\\\",\\\"7\\\",\\\"8\\\",\\\"9\\\",\\\"10\\\",\\\"11\\\",\\\"12\\\"],\\\"changes\\\":WebIO.getval({\\\"name\\\":\\\"changes\\\",\\\"scope\\\":\\\"12123193889604572971\\\",\\\"id\\\":\\\"ob_26\\\",\\\"type\\\":\\\"observable\\\"}),\\\"index\\\":WebIO.getval({\\\"name\\\":\\\"index\\\",\\\"scope\\\":\\\"12123193889604572971\\\",\\\"id\\\":\\\"ob_25\\\",\\\"type\\\":\\\"observable\\\"})};\\n    var self = this;\\n    function AppViewModel() {\\n        for (var key in json_data) {\\n            var el = json_data[key];\\n            this[key] = Array.isArray(el) ? ko.observableArray(el) : ko.observable(el);\\n        }\\n        \\n        [this[\\\"formatted_val\\\"]=ko.computed(    function(){\\n        return this.formatted_vals()[parseInt(this.index())-(1)];\\n    }\\n,this)]\\n        [this[\\\"changes\\\"].subscribe((function (val){!(this.valueFromJulia[\\\"changes\\\"]) ? (WebIO.setval({\\\"name\\\":\\\"changes\\\",\\\"scope\\\":\\\"12123193889604572971\\\",\\\"id\\\":\\\"ob_26\\\",\\\"type\\\":\\\"observable\\\"},val)) : undefined; return this.valueFromJulia[\\\"changes\\\"]=false}),self),this[\\\"index\\\"].subscribe((function (val){!(this.valueFromJulia[\\\"index\\\"]) ? (WebIO.setval({\\\"name\\\":\\\"index\\\",\\\"scope\\\":\\\"12123193889604572971\\\",\\\"id\\\":\\\"ob_25\\\",\\\"type\\\":\\\"observable\\\"},val)) : undefined; return this.valueFromJulia[\\\"index\\\"]=false}),self)]\\n        \\n    }\\n    self.model = new AppViewModel();\\n    self.valueFromJulia = {};\\n    for (var key in json_data) {\\n        self.valueFromJulia[key] = false;\\n    }\\n    ko.applyBindings(self.model, self.dom);\\n}\\n);\\n    (WebIO.importBlock({\\\"data\\\":[{\\\"name\\\":\\\"knockout\\\",\\\"type\\\":\\\"js\\\",\\\"url\\\":\\\"\\/assetserver\\/0f112f7efffefaafa832f0e672aac8a9007f917a-knockout.js\\\"},{\\\"name\\\":\\\"knockout_punches\\\",\\\"type\\\":\\\"js\\\",\\\"url\\\":\\\"\\/assetserver\\/926856c4c3c3729a85ede67ba1695ec242bcdb90-knockout_punches.js\\\"}],\\\"type\\\":\\\"async_block\\\"})).then((imports) => handler.apply(this, imports));\\n}\\n\"],\"observables\":{\"changes\":{\"sync\":false,\"id\":\"ob_26\",\"value\":0},\"index\":{\"sync\":true,\"id\":\"ob_25\",\"value\":1}}},\"children\":[{\"props\":{\"className\":\"interact-flex-row interact-widget\"},\"nodeType\":\"DOM\",\"type\":\"node\",\"instanceArgs\":{\"namespace\":\"html\",\"tag\":\"div\"},\"children\":[{\"props\":{\"className\":\"interact-flex-row-left\"},\"nodeType\":\"DOM\",\"type\":\"node\",\"instanceArgs\":{\"namespace\":\"html\",\"tag\":\"div\"},\"children\":[{\"props\":{\"className\":\"interact \",\"style\":{\"padding\":\"5px 10px 0px 10px\"}},\"nodeType\":\"DOM\",\"type\":\"node\",\"instanceArgs\":{\"namespace\":\"html\",\"tag\":\"label\"},\"children\":[\"spacing\"]}]},{\"props\":{\"className\":\"interact-flex-row-center\"},\"nodeType\":\"DOM\",\"type\":\"node\",\"instanceArgs\":{\"namespace\":\"html\",\"tag\":\"div\"},\"children\":[{\"props\":{\"max\":12,\"min\":1,\"attributes\":{\"type\":\"range\",\"data-bind\":\"numericValue: index, valueUpdate: 'input', event: {change: function (){this.changes(this.changes()+1)}}\",\"orient\":\"horizontal\"},\"step\":1,\"className\":\"slider slider is-fullwidth\",\"style\":{}},\"nodeType\":\"DOM\",\"type\":\"node\",\"instanceArgs\":{\"namespace\":\"html\",\"tag\":\"input\"},\"children\":[]}]},{\"props\":{\"className\":\"interact-flex-row-right\"},\"nodeType\":\"DOM\",\"type\":\"node\",\"instanceArgs\":{\"namespace\":\"html\",\"tag\":\"div\"},\"children\":[{\"props\":{\"attributes\":{\"data-bind\":\"text: formatted_val\"}},\"nodeType\":\"DOM\",\"type\":\"node\",\"instanceArgs\":{\"namespace\":\"html\",\"tag\":\"p\"},\"children\":[]}]}]}]}]},{\"props\":{},\"nodeType\":\"Scope\",\"type\":\"node\",\"instanceArgs\":{\"imports\":{\"data\":[],\"type\":\"async_block\"},\"id\":\"7891035894550196732\",\"handlers\":{},\"systemjs_options\":null,\"mount_callbacks\":[],\"observables\":{\"obs-node\":{\"sync\":false,\"id\":\"ob_30\",\"value\":{\"props\":{\"className\":\"interact-flex-row interact-widget\"},\"nodeType\":\"DOM\",\"type\":\"node\",\"instanceArgs\":{\"namespace\":\"html\",\"tag\":\"div\"},\"children\":[\"\"]}}}},\"children\":[{\"props\":{},\"nodeType\":\"ObservableNode\",\"type\":\"node\",\"instanceArgs\":{\"id\":\"ob_30\",\"name\":\"obs-node\"},\"children\":[]}]}]},\n",
       "            window,\n",
       "        );\n",
       "    } else {\n",
       "        document\n",
       "            .querySelector('[data-webio-mountpoint=\"12464981466963711801\"]')\n",
       "            .innerHTML = (\n",
       "                '<div style=\"padding: 1em; background-color: #f8d6da; border: 1px solid #f5c6cb\">' +\n",
       "                '<p><strong>WebIO not detected.</strong></p>' +\n",
       "                '<p>Please read ' +\n",
       "                '<a href=\"https://juliagizmos.github.io/WebIO.jl/latest/troubleshooting/not-detected/\" target=\"_blank\">the troubleshooting guide</a> ' +\n",
       "                'for more information on how to resolve this issue.</p>' +\n",
       "                '<p><a href=\"https://juliagizmos.github.io/WebIO.jl/latest/troubleshooting/not-detected/\" target=\"_blank\">https://juliagizmos.github.io/WebIO.jl/latest/troubleshooting/not-detected/</a></p>' +\n",
       "                '</div>'\n",
       "            );\n",
       "    }\n",
       "    </script>\n",
       "</div>\n"
      ],
      "text/plain": [
       "Node{WebIO.DOM}(WebIO.DOM(:html, :div), Any[Node{WebIO.DOM}(WebIO.DOM(:html, :div), Any[Scope(Node{WebIO.DOM}(WebIO.DOM(:html, :div), Any[Node{WebIO.DOM}(WebIO.DOM(:html, :div), Any[Node{WebIO.DOM}(WebIO.DOM(:html, :label), Any[\"spacing\"], Dict{Symbol,Any}(:className => \"interact \",:style => Dict{Any,Any}(:padding => \"5px 10px 0px 10px\")))], Dict{Symbol,Any}(:className => \"interact-flex-row-left\")), Node{WebIO.DOM}(WebIO.DOM(:html, :div), Any[Node{WebIO.DOM}(WebIO.DOM(:html, :input), Any[], Dict{Symbol,Any}(:max => 12,:min => 1,:attributes => Dict{Any,Any}(:type => \"range\",Symbol(\"data-bind\") => \"numericValue: index, valueUpdate: 'input', event: {change: function (){this.changes(this.changes()+1)}}\",\"orient\" => \"horizontal\"),:step => 1,:className => \"slider slider is-fullwidth\",:style => Dict{Any,Any}()))], Dict{Symbol,Any}(:className => \"interact-flex-row-center\")), Node{WebIO.DOM}(WebIO.DOM(:html, :div), Any[Node{WebIO.DOM}(WebIO.DOM(:html, :p), Any[], Dict{Symbol,Any}(:attributes => Dict(\"data-bind\" => \"text: formatted_val\")))], Dict{Symbol,Any}(:className => \"interact-flex-row-right\"))], Dict{Symbol,Any}(:className => \"interact-flex-row interact-widget\")), Dict{String,Tuple{Observables.AbstractObservable,Union{Nothing, Bool}}}(\"changes\" => (Observable{Int64} with 1 listeners. Value:\n",
       "0, nothing),\"index\" => (Observable{Int64} with 2 listeners. Value:\n",
       "1, nothing)), Set(String[]), nothing, Asset[Asset(\"js\", \"knockout\", \"/Users/MrTrololord/.julia/packages/Knockout/IP1uR/src/../assets/knockout.js\"), Asset(\"js\", \"knockout_punches\", \"/Users/MrTrololord/.julia/packages/Knockout/IP1uR/src/../assets/knockout_punches.js\"), Asset(\"js\", nothing, \"/Users/MrTrololord/.julia/packages/InteractBase/sOe2Z/src/../assets/all.js\"), Asset(\"css\", nothing, \"/Users/MrTrololord/.julia/packages/InteractBase/sOe2Z/src/../assets/style.css\"), Asset(\"css\", nothing, \"/Users/MrTrololord/.julia/packages/Interact/SbgIk/src/../assets/bulma_confined.min.css\")], Dict{Any,Any}(\"changes\" => Any[WebIO.JSString(\"(function (val){return (val!=this.model[\\\"changes\\\"]()) ? (this.valueFromJulia[\\\"changes\\\"]=true, this.model[\\\"changes\\\"](val)) : undefined})\")],\"index\" => Any[WebIO.JSString(\"(function (val){return (val!=this.model[\\\"index\\\"]()) ? (this.valueFromJulia[\\\"index\\\"]=true, this.model[\\\"index\\\"](val)) : undefined})\")]), WebIO.ConnectionPool(Channel{Any}(sz_max:32,sz_curr:0), Set(AbstractConnection[]), Base.GenericCondition{Base.AlwaysLockedST}(Base.InvasiveLinkedList{Task}(Task (runnable) @0x0000000117062410, Task (runnable) @0x0000000117062410), Base.AlwaysLockedST(1))), WebIO.JSString[WebIO.JSString(\"function () {\\n    var handler = (function (ko, koPunches) {\\n    ko.punches.enableAll();\\n    ko.bindingHandlers.numericValue = {\\n        init: function(element, valueAccessor, allBindings, data, context) {\\n            var stringified = ko.observable(ko.unwrap(valueAccessor()));\\n            stringified.subscribe(function(value) {\\n                var val = parseFloat(value);\\n                if (!isNaN(val)) {\\n                    valueAccessor()(val);\\n                }\\n            });\\n            valueAccessor().subscribe(function(value) {\\n                var str = JSON.stringify(value);\\n                if ((str == \\\"0\\\") && ([\\\"-0\\\", \\\"-0.\\\"].indexOf(stringified()) >= 0))\\n                     return;\\n                 if ([\\\"null\\\", \\\"\\\"].indexOf(str) >= 0)\\n                     return;\\n                stringified(str);\\n            });\\n            ko.applyBindingsToNode(\\n                element,\\n                {\\n                    value: stringified,\\n                    valueUpdate: allBindings.get('valueUpdate'),\\n                },\\n                context,\\n            );\\n        }\\n    };\\n    var json_data = {\\\"formatted_vals\\\":[\\\"1\\\",\\\"2\\\",\\\"3\\\",\\\"4\\\",\\\"5\\\",\\\"6\\\",\\\"7\\\",\\\"8\\\",\\\"9\\\",\\\"10\\\",\\\"11\\\",\\\"12\\\"],\\\"changes\\\":WebIO.getval({\\\"name\\\":\\\"changes\\\",\\\"scope\\\":\\\"12123193889604572971\\\",\\\"id\\\":\\\"ob_26\\\",\\\"type\\\":\\\"observable\\\"}),\\\"index\\\":WebIO.getval({\\\"name\\\":\\\"index\\\",\\\"scope\\\":\\\"12123193889604572971\\\",\\\"id\\\":\\\"ob_25\\\",\\\"type\\\":\\\"observable\\\"})};\\n    var self = this;\\n    function AppViewModel() {\\n        for (var key in json_data) {\\n            var el = json_data[key];\\n            this[key] = Array.isArray(el) ? ko.observableArray(el) : ko.observable(el);\\n        }\\n        \\n        [this[\\\"formatted_val\\\"]=ko.computed(    function(){\\n        return this.formatted_vals()[parseInt(this.index())-(1)];\\n    }\\n,this)]\\n        [this[\\\"changes\\\"].subscribe((function (val){!(this.valueFromJulia[\\\"changes\\\"]) ? (WebIO.setval({\\\"name\\\":\\\"changes\\\",\\\"scope\\\":\\\"12123193889604572971\\\",\\\"id\\\":\\\"ob_26\\\",\\\"type\\\":\\\"observable\\\"},val)) : undefined; return this.valueFromJulia[\\\"changes\\\"]=false}),self),this[\\\"index\\\"].subscribe((function (val){!(this.valueFromJulia[\\\"index\\\"]) ? (WebIO.setval({\\\"name\\\":\\\"index\\\",\\\"scope\\\":\\\"12123193889604572971\\\",\\\"id\\\":\\\"ob_25\\\",\\\"type\\\":\\\"observable\\\"},val)) : undefined; return this.valueFromJulia[\\\"index\\\"]=false}),self)]\\n        \\n    }\\n    self.model = new AppViewModel();\\n    self.valueFromJulia = {};\\n    for (var key in json_data) {\\n        self.valueFromJulia[key] = false;\\n    }\\n    ko.applyBindings(self.model, self.dom);\\n}\\n);\\n    (WebIO.importBlock({\\\"data\\\":[{\\\"name\\\":\\\"knockout\\\",\\\"type\\\":\\\"js\\\",\\\"url\\\":\\\"/assetserver/0f112f7efffefaafa832f0e672aac8a9007f917a-knockout.js\\\"},{\\\"name\\\":\\\"knockout_punches\\\",\\\"type\\\":\\\"js\\\",\\\"url\\\":\\\"/assetserver/926856c4c3c3729a85ede67ba1695ec242bcdb90-knockout_punches.js\\\"}],\\\"type\\\":\\\"async_block\\\"})).then((imports) => handler.apply(this, imports));\\n}\\n\")])], Dict{Symbol,Any}(:className => \"field interact-widget\")), Observable{Any} with 0 listeners. Value:\n",
       "Node{WebIO.DOM}(WebIO.DOM(:html, :div), Any[nothing], Dict{Symbol,Any}(:className => \"interact-flex-row interact-widget\"))], Dict{Symbol,Any}())"
      ]
     },
     "execution_count": 55,
     "metadata": {
      "application/vnd.webio.node+json": {
       "kernelId": "0ab610de-0d30-44e2-bb2d-0fabd393be93"
      }
     },
     "output_type": "execute_result"
    }
   ],
   "source": [
    "sections = [\"reg alg: sp lap\"]\n",
    "@manipulate for k in slider(1:length(spacings), value=1, label=\"spacing\")\n",
    "    spacing = spacings[k]\n",
    "    fig, axs = subplots(length(diag_sizes), sharex=true, figsize=(10,10))\n",
    "    for (diag_size, ax) in zip(diag_sizes, axs)\n",
    "        ax.set_title(\"Diagonal Size: \" * string(diag_size))\n",
    "\n",
    "        local_df = df[((df.diag_size .== diag_size) .& (df.spacing .== spacing)), :]\n",
    "\n",
    "        # get times\n",
    "        timers = local_df[:, :timer]\n",
    "        avg_times = map(x -> get_avg_time(get_timer(x, sections)), timers)\n",
    "\n",
    "        # get flow mae\n",
    "        median_dicts = local_df[:, :median_results]\n",
    "        median_flow_mae = map(dict -> dict[\"flow_mae\"], median_dicts)\n",
    "\n",
    "        # xscale(\"log\")\n",
    "        # yscale(\"log\")\n",
    "        subplots_adjust(top=1.5)\n",
    "        ax.plot(point_counts, avg_times)\n",
    "        ax.plot(point_counts, median_flow_mae)\n",
    "        xlabel(\"point count\")\n",
    "        ax.set_ylabel(\"time [s] & mae [pixel]\")\n",
    "    end\n",
    "end"
   ]
  },
  {
   "cell_type": "markdown",
   "metadata": {},
   "source": [
    "### helper functions"
   ]
  },
  {
   "cell_type": "code",
   "execution_count": 34,
   "metadata": {},
   "outputs": [
    {
     "data": {
      "text/plain": [
       "get_timer (generic function with 1 method)"
      ]
     },
     "execution_count": 34,
     "metadata": {},
     "output_type": "execute_result"
    }
   ],
   "source": [
    "defined_perms(arraylike) = filter(k -> isassigned(arraylike, k), 1:length(arraylike))\n",
    "filter_defined(arraylike) = arraylike[defined_perms(arraylike)]\n",
    "function get_avg_time(timer)\n",
    "    return (TimerOutputs.time(timer)/TimerOutputs.ncalls(timer))/10e8\n",
    "end\n",
    "function get_timer(timer, sections)\n",
    "    private_sections = copy(sections)\n",
    "    try\n",
    "        timer[private_sections[1]]\n",
    "    catch e\n",
    "        println(e)\n",
    "        return TimerOutput()\n",
    "    end\n",
    "    out = timer\n",
    "    while private_sections != []\n",
    "        out = out[popfirst!(private_sections)]\n",
    "    end\n",
    "    return out\n",
    "end"
   ]
  },
  {
   "cell_type": "code",
   "execution_count": null,
   "metadata": {},
   "outputs": [],
   "source": []
  }
 ],
 "metadata": {
  "@webio": {
   "lastCommId": "28d5167667254835b7ec4a13d5368e65",
   "lastKernelId": "0ab610de-0d30-44e2-bb2d-0fabd393be93"
  },
  "kernelspec": {
   "display_name": "Julia 1.3.1",
   "language": "julia",
   "name": "julia-1.3"
  },
  "language_info": {
   "file_extension": ".jl",
   "mimetype": "application/julia",
   "name": "julia",
   "version": "1.3.1"
  }
 },
 "nbformat": 4,
 "nbformat_minor": 4
}
